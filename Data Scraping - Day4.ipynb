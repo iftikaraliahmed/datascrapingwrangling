{
 "cells": [
  {
   "cell_type": "markdown",
   "metadata": {},
   "source": [
    "# Twitter Web Scraping"
   ]
  },
  {
   "cell_type": "markdown",
   "metadata": {},
   "source": [
    "Consumer API keys\n",
    "eVazopG0C6MPuJruABnb9Ojuo (API key)\n",
    "\n",
    "bRDPy1fV5ROPG5t5bCFtNxyAzbhMqUOz6aLsnhfLpmxUh3SJHs (API secret key)\n",
    "\n",
    "Access token & access token secret\n",
    "873805520112459776-R8U5mUVRSs8hnXHYukrvtPe2crmSa7b (Access token)\n",
    "\n",
    "7qq4TUEeimDlV3KfFPDp2gq030ECb7UnckpcLKuN3mD3j (Access token secret)\n",
    "\n",
    "Read-only (Access level)"
   ]
  },
  {
   "cell_type": "code",
   "execution_count": 3,
   "metadata": {},
   "outputs": [
    {
     "name": "stdout",
     "output_type": "stream",
     "text": [
      "Collecting tweepy\n",
      "  Downloading https://files.pythonhosted.org/packages/d5/5f/daac4b4e9b30d7d2a6fdd16a880ff79f27918fe388e4dfc1983dec3a9876/tweepy-3.7.0-py2.py3-none-any.whl\n",
      "Requirement already satisfied: PySocks>=1.5.7 in c:\\programdata\\anaconda3\\lib\\site-packages (from tweepy) (1.6.8)\n",
      "Requirement already satisfied: six>=1.10.0 in c:\\programdata\\anaconda3\\lib\\site-packages (from tweepy) (1.12.0)\n",
      "Collecting requests-oauthlib>=0.7.0 (from tweepy)\n",
      "  Downloading https://files.pythonhosted.org/packages/c2/e2/9fd03d55ffb70fe51f587f20bcf407a6927eb121de86928b34d162f0b1ac/requests_oauthlib-1.2.0-py2.py3-none-any.whl\n",
      "Requirement already satisfied: requests>=2.11.1 in c:\\programdata\\anaconda3\\lib\\site-packages (from tweepy) (2.21.0)\n",
      "Collecting oauthlib>=3.0.0 (from requests-oauthlib>=0.7.0->tweepy)\n",
      "  Downloading https://files.pythonhosted.org/packages/16/95/699466b05b72b94a41f662dc9edf87fda4289e3602ecd42d27fcaddf7b56/oauthlib-3.0.1-py2.py3-none-any.whl (142kB)\n",
      "Requirement already satisfied: idna<2.9,>=2.5 in c:\\programdata\\anaconda3\\lib\\site-packages (from requests>=2.11.1->tweepy) (2.8)\n",
      "Requirement already satisfied: certifi>=2017.4.17 in c:\\programdata\\anaconda3\\lib\\site-packages (from requests>=2.11.1->tweepy) (2018.11.29)\n",
      "Requirement already satisfied: chardet<3.1.0,>=3.0.2 in c:\\programdata\\anaconda3\\lib\\site-packages (from requests>=2.11.1->tweepy) (3.0.4)\n",
      "Requirement already satisfied: urllib3<1.25,>=1.21.1 in c:\\programdata\\anaconda3\\lib\\site-packages (from requests>=2.11.1->tweepy) (1.24.1)\n",
      "Installing collected packages: oauthlib, requests-oauthlib, tweepy\n",
      "Successfully installed oauthlib-3.0.1 requests-oauthlib-1.2.0 tweepy-3.7.0\n"
     ]
    }
   ],
   "source": [
    "!pip install tweepy"
   ]
  },
  {
   "cell_type": "code",
   "execution_count": 4,
   "metadata": {},
   "outputs": [],
   "source": [
    "import tweepy"
   ]
  },
  {
   "cell_type": "code",
   "execution_count": 1,
   "metadata": {},
   "outputs": [],
   "source": [
    "from selenium import webdriver"
   ]
  },
  {
   "cell_type": "code",
   "execution_count": 62,
   "metadata": {},
   "outputs": [],
   "source": [
    "import matplotlib"
   ]
  },
  {
   "cell_type": "code",
   "execution_count": 2,
   "metadata": {},
   "outputs": [],
   "source": [
    "import pandas as pd\n",
    "import numpy as np\n",
    "import os\n",
    "browser = webdriver.Chrome('chromedriver.exe')"
   ]
  },
  {
   "cell_type": "code",
   "execution_count": null,
   "metadata": {},
   "outputs": [],
   "source": [
    "url = 'https://https://developer.twitter.com'\n",
    "browser.get(url)"
   ]
  },
  {
   "cell_type": "code",
   "execution_count": 5,
   "metadata": {},
   "outputs": [],
   "source": [
    "consumer_key = 'eVazopG0C6MPuJruABnb9Ojuo'\n",
    "consumer_secret = 'bRDPy1fV5ROPG5t5bCFtNxyAzbhMqUOz6aLsnhfLpmxUh3SJHs'\n",
    "\n",
    "access_token = '873805520112459776-R8U5mUVRSs8hnXHYukrvtPe2crmSa7b'\n",
    "access_secret = '7qq4TUEeimDlV3KfFPDp2gq030ECb7UnckpcLKuN3mD3j'"
   ]
  },
  {
   "cell_type": "code",
   "execution_count": 7,
   "metadata": {},
   "outputs": [],
   "source": [
    "auth = tweepy.OAuthHandler(consumer_key, consumer_secret)\n",
    "auth.set_access_token(access_token, access_secret)\n",
    "\n",
    "api=tweepy.API(auth,wait_on_rate_limit=True)"
   ]
  },
  {
   "cell_type": "markdown",
   "metadata": {},
   "source": [
    "# Scraping Modi's Tweets"
   ]
  },
  {
   "cell_type": "code",
   "execution_count": 43,
   "metadata": {},
   "outputs": [
    {
     "data": {
      "text/plain": [
       "200"
      ]
     },
     "execution_count": 43,
     "metadata": {},
     "output_type": "execute_result"
    }
   ],
   "source": [
    "modi_tweets = api.user_timeline('narendramodi', page=1,count=200)\n",
    "len(modi_tweets)"
   ]
  },
  {
   "cell_type": "code",
   "execution_count": 9,
   "metadata": {},
   "outputs": [
    {
     "data": {
      "text/plain": [
       "Status(_api=<tweepy.api.API object at 0x00000228C9F47CC0>, _json={'created_at': 'Mon Apr 01 03:28:25 +0000 2019', 'id': 1112557299456004097, 'id_str': '1112557299456004097', 'text': 'I bow to His Holiness Dr. Sree Sree Sree Sivakumara Swamigalu on his Jayanti. \\n\\nHe lives in our hearts and minds.… https://t.co/T6CNMHIDjx', 'truncated': True, 'entities': {'hashtags': [], 'symbols': [], 'user_mentions': [], 'urls': [{'url': 'https://t.co/T6CNMHIDjx', 'expanded_url': 'https://twitter.com/i/web/status/1112557299456004097', 'display_url': 'twitter.com/i/web/status/1…', 'indices': [115, 138]}]}, 'source': '<a href=\"http://twitter.com/download/iphone\" rel=\"nofollow\">Twitter for iPhone</a>', 'in_reply_to_status_id': None, 'in_reply_to_status_id_str': None, 'in_reply_to_user_id': None, 'in_reply_to_user_id_str': None, 'in_reply_to_screen_name': None, 'user': {'id': 18839785, 'id_str': '18839785', 'name': 'Chowkidar Narendra Modi', 'screen_name': 'narendramodi', 'location': 'India', 'description': 'Prime Minister of India', 'url': 'https://t.co/zzYhUUfq6i', 'entities': {'url': {'urls': [{'url': 'https://t.co/zzYhUUfq6i', 'expanded_url': 'http://www.narendramodi.in', 'display_url': 'narendramodi.in', 'indices': [0, 23]}]}, 'description': {'urls': []}}, 'protected': False, 'followers_count': 46678302, 'friends_count': 2163, 'listed_count': 23556, 'created_at': 'Sat Jan 10 17:18:56 +0000 2009', 'favourites_count': 0, 'utc_offset': None, 'time_zone': None, 'geo_enabled': False, 'verified': True, 'statuses_count': 22804, 'lang': 'en', 'contributors_enabled': False, 'is_translator': False, 'is_translation_enabled': False, 'profile_background_color': 'F4EDD4', 'profile_background_image_url': 'http://abs.twimg.com/images/themes/theme1/bg.png', 'profile_background_image_url_https': 'https://abs.twimg.com/images/themes/theme1/bg.png', 'profile_background_tile': False, 'profile_image_url': 'http://pbs.twimg.com/profile_images/718314968102367232/ypY1GPCQ_normal.jpg', 'profile_image_url_https': 'https://pbs.twimg.com/profile_images/718314968102367232/ypY1GPCQ_normal.jpg', 'profile_banner_url': 'https://pbs.twimg.com/profile_banners/18839785/1502777627', 'profile_link_color': '4E7096', 'profile_sidebar_border_color': 'FFFFFF', 'profile_sidebar_fill_color': 'D5DFED', 'profile_text_color': '233863', 'profile_use_background_image': True, 'has_extended_profile': True, 'default_profile': False, 'default_profile_image': False, 'following': True, 'follow_request_sent': False, 'notifications': False, 'translator_type': 'regular'}, 'geo': None, 'coordinates': None, 'place': None, 'contributors': None, 'is_quote_status': False, 'retweet_count': 1311, 'favorite_count': 5216, 'favorited': False, 'retweeted': False, 'possibly_sensitive': False, 'lang': 'en'}, created_at=datetime.datetime(2019, 4, 1, 3, 28, 25), id=1112557299456004097, id_str='1112557299456004097', text='I bow to His Holiness Dr. Sree Sree Sree Sivakumara Swamigalu on his Jayanti. \\n\\nHe lives in our hearts and minds.… https://t.co/T6CNMHIDjx', truncated=True, entities={'hashtags': [], 'symbols': [], 'user_mentions': [], 'urls': [{'url': 'https://t.co/T6CNMHIDjx', 'expanded_url': 'https://twitter.com/i/web/status/1112557299456004097', 'display_url': 'twitter.com/i/web/status/1…', 'indices': [115, 138]}]}, source='Twitter for iPhone', source_url='http://twitter.com/download/iphone', in_reply_to_status_id=None, in_reply_to_status_id_str=None, in_reply_to_user_id=None, in_reply_to_user_id_str=None, in_reply_to_screen_name=None, author=User(_api=<tweepy.api.API object at 0x00000228C9F47CC0>, _json={'id': 18839785, 'id_str': '18839785', 'name': 'Chowkidar Narendra Modi', 'screen_name': 'narendramodi', 'location': 'India', 'description': 'Prime Minister of India', 'url': 'https://t.co/zzYhUUfq6i', 'entities': {'url': {'urls': [{'url': 'https://t.co/zzYhUUfq6i', 'expanded_url': 'http://www.narendramodi.in', 'display_url': 'narendramodi.in', 'indices': [0, 23]}]}, 'description': {'urls': []}}, 'protected': False, 'followers_count': 46678302, 'friends_count': 2163, 'listed_count': 23556, 'created_at': 'Sat Jan 10 17:18:56 +0000 2009', 'favourites_count': 0, 'utc_offset': None, 'time_zone': None, 'geo_enabled': False, 'verified': True, 'statuses_count': 22804, 'lang': 'en', 'contributors_enabled': False, 'is_translator': False, 'is_translation_enabled': False, 'profile_background_color': 'F4EDD4', 'profile_background_image_url': 'http://abs.twimg.com/images/themes/theme1/bg.png', 'profile_background_image_url_https': 'https://abs.twimg.com/images/themes/theme1/bg.png', 'profile_background_tile': False, 'profile_image_url': 'http://pbs.twimg.com/profile_images/718314968102367232/ypY1GPCQ_normal.jpg', 'profile_image_url_https': 'https://pbs.twimg.com/profile_images/718314968102367232/ypY1GPCQ_normal.jpg', 'profile_banner_url': 'https://pbs.twimg.com/profile_banners/18839785/1502777627', 'profile_link_color': '4E7096', 'profile_sidebar_border_color': 'FFFFFF', 'profile_sidebar_fill_color': 'D5DFED', 'profile_text_color': '233863', 'profile_use_background_image': True, 'has_extended_profile': True, 'default_profile': False, 'default_profile_image': False, 'following': True, 'follow_request_sent': False, 'notifications': False, 'translator_type': 'regular'}, id=18839785, id_str='18839785', name='Chowkidar Narendra Modi', screen_name='narendramodi', location='India', description='Prime Minister of India', url='https://t.co/zzYhUUfq6i', entities={'url': {'urls': [{'url': 'https://t.co/zzYhUUfq6i', 'expanded_url': 'http://www.narendramodi.in', 'display_url': 'narendramodi.in', 'indices': [0, 23]}]}, 'description': {'urls': []}}, protected=False, followers_count=46678302, friends_count=2163, listed_count=23556, created_at=datetime.datetime(2009, 1, 10, 17, 18, 56), favourites_count=0, utc_offset=None, time_zone=None, geo_enabled=False, verified=True, statuses_count=22804, lang='en', contributors_enabled=False, is_translator=False, is_translation_enabled=False, profile_background_color='F4EDD4', profile_background_image_url='http://abs.twimg.com/images/themes/theme1/bg.png', profile_background_image_url_https='https://abs.twimg.com/images/themes/theme1/bg.png', profile_background_tile=False, profile_image_url='http://pbs.twimg.com/profile_images/718314968102367232/ypY1GPCQ_normal.jpg', profile_image_url_https='https://pbs.twimg.com/profile_images/718314968102367232/ypY1GPCQ_normal.jpg', profile_banner_url='https://pbs.twimg.com/profile_banners/18839785/1502777627', profile_link_color='4E7096', profile_sidebar_border_color='FFFFFF', profile_sidebar_fill_color='D5DFED', profile_text_color='233863', profile_use_background_image=True, has_extended_profile=True, default_profile=False, default_profile_image=False, following=True, follow_request_sent=False, notifications=False, translator_type='regular'), user=User(_api=<tweepy.api.API object at 0x00000228C9F47CC0>, _json={'id': 18839785, 'id_str': '18839785', 'name': 'Chowkidar Narendra Modi', 'screen_name': 'narendramodi', 'location': 'India', 'description': 'Prime Minister of India', 'url': 'https://t.co/zzYhUUfq6i', 'entities': {'url': {'urls': [{'url': 'https://t.co/zzYhUUfq6i', 'expanded_url': 'http://www.narendramodi.in', 'display_url': 'narendramodi.in', 'indices': [0, 23]}]}, 'description': {'urls': []}}, 'protected': False, 'followers_count': 46678302, 'friends_count': 2163, 'listed_count': 23556, 'created_at': 'Sat Jan 10 17:18:56 +0000 2009', 'favourites_count': 0, 'utc_offset': None, 'time_zone': None, 'geo_enabled': False, 'verified': True, 'statuses_count': 22804, 'lang': 'en', 'contributors_enabled': False, 'is_translator': False, 'is_translation_enabled': False, 'profile_background_color': 'F4EDD4', 'profile_background_image_url': 'http://abs.twimg.com/images/themes/theme1/bg.png', 'profile_background_image_url_https': 'https://abs.twimg.com/images/themes/theme1/bg.png', 'profile_background_tile': False, 'profile_image_url': 'http://pbs.twimg.com/profile_images/718314968102367232/ypY1GPCQ_normal.jpg', 'profile_image_url_https': 'https://pbs.twimg.com/profile_images/718314968102367232/ypY1GPCQ_normal.jpg', 'profile_banner_url': 'https://pbs.twimg.com/profile_banners/18839785/1502777627', 'profile_link_color': '4E7096', 'profile_sidebar_border_color': 'FFFFFF', 'profile_sidebar_fill_color': 'D5DFED', 'profile_text_color': '233863', 'profile_use_background_image': True, 'has_extended_profile': True, 'default_profile': False, 'default_profile_image': False, 'following': True, 'follow_request_sent': False, 'notifications': False, 'translator_type': 'regular'}, id=18839785, id_str='18839785', name='Chowkidar Narendra Modi', screen_name='narendramodi', location='India', description='Prime Minister of India', url='https://t.co/zzYhUUfq6i', entities={'url': {'urls': [{'url': 'https://t.co/zzYhUUfq6i', 'expanded_url': 'http://www.narendramodi.in', 'display_url': 'narendramodi.in', 'indices': [0, 23]}]}, 'description': {'urls': []}}, protected=False, followers_count=46678302, friends_count=2163, listed_count=23556, created_at=datetime.datetime(2009, 1, 10, 17, 18, 56), favourites_count=0, utc_offset=None, time_zone=None, geo_enabled=False, verified=True, statuses_count=22804, lang='en', contributors_enabled=False, is_translator=False, is_translation_enabled=False, profile_background_color='F4EDD4', profile_background_image_url='http://abs.twimg.com/images/themes/theme1/bg.png', profile_background_image_url_https='https://abs.twimg.com/images/themes/theme1/bg.png', profile_background_tile=False, profile_image_url='http://pbs.twimg.com/profile_images/718314968102367232/ypY1GPCQ_normal.jpg', profile_image_url_https='https://pbs.twimg.com/profile_images/718314968102367232/ypY1GPCQ_normal.jpg', profile_banner_url='https://pbs.twimg.com/profile_banners/18839785/1502777627', profile_link_color='4E7096', profile_sidebar_border_color='FFFFFF', profile_sidebar_fill_color='D5DFED', profile_text_color='233863', profile_use_background_image=True, has_extended_profile=True, default_profile=False, default_profile_image=False, following=True, follow_request_sent=False, notifications=False, translator_type='regular'), geo=None, coordinates=None, place=None, contributors=None, is_quote_status=False, retweet_count=1311, favorite_count=5216, favorited=False, retweeted=False, possibly_sensitive=False, lang='en')"
      ]
     },
     "execution_count": 9,
     "metadata": {},
     "output_type": "execute_result"
    }
   ],
   "source": [
    "modi_tweets[0]"
   ]
  },
  {
   "cell_type": "code",
   "execution_count": 10,
   "metadata": {},
   "outputs": [
    {
     "data": {
      "text/plain": [
       "'I bow to His Holiness Dr. Sree Sree Sree Sivakumara Swamigalu on his Jayanti. \\n\\nHe lives in our hearts and minds.… https://t.co/T6CNMHIDjx'"
      ]
     },
     "execution_count": 10,
     "metadata": {},
     "output_type": "execute_result"
    }
   ],
   "source": [
    "modi_tweets[0].text"
   ]
  },
  {
   "cell_type": "code",
   "execution_count": 11,
   "metadata": {},
   "outputs": [
    {
     "data": {
      "text/plain": [
       "datetime.datetime(2019, 4, 1, 3, 28, 25)"
      ]
     },
     "execution_count": 11,
     "metadata": {},
     "output_type": "execute_result"
    }
   ],
   "source": [
    "modi_tweets[0].created_at"
   ]
  },
  {
   "cell_type": "code",
   "execution_count": 12,
   "metadata": {},
   "outputs": [
    {
     "data": {
      "text/plain": [
       "{'created_at': 'Mon Apr 01 03:28:25 +0000 2019',\n",
       " 'id': 1112557299456004097,\n",
       " 'id_str': '1112557299456004097',\n",
       " 'text': 'I bow to His Holiness Dr. Sree Sree Sree Sivakumara Swamigalu on his Jayanti. \\n\\nHe lives in our hearts and minds.… https://t.co/T6CNMHIDjx',\n",
       " 'truncated': True,\n",
       " 'entities': {'hashtags': [],\n",
       "  'symbols': [],\n",
       "  'user_mentions': [],\n",
       "  'urls': [{'url': 'https://t.co/T6CNMHIDjx',\n",
       "    'expanded_url': 'https://twitter.com/i/web/status/1112557299456004097',\n",
       "    'display_url': 'twitter.com/i/web/status/1…',\n",
       "    'indices': [115, 138]}]},\n",
       " 'source': '<a href=\"http://twitter.com/download/iphone\" rel=\"nofollow\">Twitter for iPhone</a>',\n",
       " 'in_reply_to_status_id': None,\n",
       " 'in_reply_to_status_id_str': None,\n",
       " 'in_reply_to_user_id': None,\n",
       " 'in_reply_to_user_id_str': None,\n",
       " 'in_reply_to_screen_name': None,\n",
       " 'user': {'id': 18839785,\n",
       "  'id_str': '18839785',\n",
       "  'name': 'Chowkidar Narendra Modi',\n",
       "  'screen_name': 'narendramodi',\n",
       "  'location': 'India',\n",
       "  'description': 'Prime Minister of India',\n",
       "  'url': 'https://t.co/zzYhUUfq6i',\n",
       "  'entities': {'url': {'urls': [{'url': 'https://t.co/zzYhUUfq6i',\n",
       "      'expanded_url': 'http://www.narendramodi.in',\n",
       "      'display_url': 'narendramodi.in',\n",
       "      'indices': [0, 23]}]},\n",
       "   'description': {'urls': []}},\n",
       "  'protected': False,\n",
       "  'followers_count': 46678302,\n",
       "  'friends_count': 2163,\n",
       "  'listed_count': 23556,\n",
       "  'created_at': 'Sat Jan 10 17:18:56 +0000 2009',\n",
       "  'favourites_count': 0,\n",
       "  'utc_offset': None,\n",
       "  'time_zone': None,\n",
       "  'geo_enabled': False,\n",
       "  'verified': True,\n",
       "  'statuses_count': 22804,\n",
       "  'lang': 'en',\n",
       "  'contributors_enabled': False,\n",
       "  'is_translator': False,\n",
       "  'is_translation_enabled': False,\n",
       "  'profile_background_color': 'F4EDD4',\n",
       "  'profile_background_image_url': 'http://abs.twimg.com/images/themes/theme1/bg.png',\n",
       "  'profile_background_image_url_https': 'https://abs.twimg.com/images/themes/theme1/bg.png',\n",
       "  'profile_background_tile': False,\n",
       "  'profile_image_url': 'http://pbs.twimg.com/profile_images/718314968102367232/ypY1GPCQ_normal.jpg',\n",
       "  'profile_image_url_https': 'https://pbs.twimg.com/profile_images/718314968102367232/ypY1GPCQ_normal.jpg',\n",
       "  'profile_banner_url': 'https://pbs.twimg.com/profile_banners/18839785/1502777627',\n",
       "  'profile_link_color': '4E7096',\n",
       "  'profile_sidebar_border_color': 'FFFFFF',\n",
       "  'profile_sidebar_fill_color': 'D5DFED',\n",
       "  'profile_text_color': '233863',\n",
       "  'profile_use_background_image': True,\n",
       "  'has_extended_profile': True,\n",
       "  'default_profile': False,\n",
       "  'default_profile_image': False,\n",
       "  'following': True,\n",
       "  'follow_request_sent': False,\n",
       "  'notifications': False,\n",
       "  'translator_type': 'regular'},\n",
       " 'geo': None,\n",
       " 'coordinates': None,\n",
       " 'place': None,\n",
       " 'contributors': None,\n",
       " 'is_quote_status': False,\n",
       " 'retweet_count': 1311,\n",
       " 'favorite_count': 5216,\n",
       " 'favorited': False,\n",
       " 'retweeted': False,\n",
       " 'possibly_sensitive': False,\n",
       " 'lang': 'en'}"
      ]
     },
     "execution_count": 12,
     "metadata": {},
     "output_type": "execute_result"
    }
   ],
   "source": [
    "import json\n",
    "modi_tweets[0]._json"
   ]
  },
  {
   "cell_type": "code",
   "execution_count": 13,
   "metadata": {},
   "outputs": [
    {
     "data": {
      "text/plain": [
       "'Twitter for iPhone'"
      ]
     },
     "execution_count": 13,
     "metadata": {},
     "output_type": "execute_result"
    }
   ],
   "source": [
    "modi_tweets[0].source"
   ]
  },
  {
   "cell_type": "code",
   "execution_count": 14,
   "metadata": {},
   "outputs": [
    {
     "data": {
      "text/plain": [
       "'Prime Minister of India'"
      ]
     },
     "execution_count": 14,
     "metadata": {},
     "output_type": "execute_result"
    }
   ],
   "source": [
    "modi_tweets[0].user.description"
   ]
  },
  {
   "cell_type": "code",
   "execution_count": 15,
   "metadata": {},
   "outputs": [
    {
     "name": "stdout",
     "output_type": "stream",
     "text": [
      "None\n"
     ]
    }
   ],
   "source": [
    "print(modi_tweets[0].geo)"
   ]
  },
  {
   "cell_type": "code",
   "execution_count": 16,
   "metadata": {},
   "outputs": [
    {
     "data": {
      "text/plain": [
       "'India'"
      ]
     },
     "execution_count": 16,
     "metadata": {},
     "output_type": "execute_result"
    }
   ],
   "source": [
    "modi_tweets[0].user.location"
   ]
  },
  {
   "cell_type": "code",
   "execution_count": 44,
   "metadata": {},
   "outputs": [
    {
     "data": {
      "text/plain": [
       "6444"
      ]
     },
     "execution_count": 44,
     "metadata": {},
     "output_type": "execute_result"
    }
   ],
   "source": [
    "modi_tweets[0].favorite_count"
   ]
  },
  {
   "cell_type": "code",
   "execution_count": 45,
   "metadata": {},
   "outputs": [
    {
     "data": {
      "text/plain": [
       "1633"
      ]
     },
     "execution_count": 45,
     "metadata": {},
     "output_type": "execute_result"
    }
   ],
   "source": [
    "modi_tweets[0].retweet_count"
   ]
  },
  {
   "cell_type": "code",
   "execution_count": 46,
   "metadata": {},
   "outputs": [
    {
     "data": {
      "text/html": [
       "<div>\n",
       "<style scoped>\n",
       "    .dataframe tbody tr th:only-of-type {\n",
       "        vertical-align: middle;\n",
       "    }\n",
       "\n",
       "    .dataframe tbody tr th {\n",
       "        vertical-align: top;\n",
       "    }\n",
       "\n",
       "    .dataframe thead th {\n",
       "        text-align: right;\n",
       "    }\n",
       "</style>\n",
       "<table border=\"1\" class=\"dataframe\">\n",
       "  <thead>\n",
       "    <tr style=\"text-align: right;\">\n",
       "      <th></th>\n",
       "      <th>created_at</th>\n",
       "      <th>likes</th>\n",
       "      <th>retweets</th>\n",
       "      <th>source</th>\n",
       "      <th>text</th>\n",
       "    </tr>\n",
       "  </thead>\n",
       "  <tbody>\n",
       "    <tr>\n",
       "      <th>0</th>\n",
       "      <td>2019-04-01 03:28:25</td>\n",
       "      <td>6444.0</td>\n",
       "      <td>1633.0</td>\n",
       "      <td>Twitter for iPhone</td>\n",
       "      <td>I bow to His Holiness Dr. Sree Sree Sree Sivak...</td>\n",
       "    </tr>\n",
       "    <tr>\n",
       "      <th>1</th>\n",
       "      <td>2019-04-01 03:14:06</td>\n",
       "      <td>3984.0</td>\n",
       "      <td>1074.0</td>\n",
       "      <td>Twitter for iPhone</td>\n",
       "      <td>Utkala Dibasa greetings to my sisters and brot...</td>\n",
       "    </tr>\n",
       "    <tr>\n",
       "      <th>2</th>\n",
       "      <td>2019-04-01 03:11:17</td>\n",
       "      <td>3070.0</td>\n",
       "      <td>788.0</td>\n",
       "      <td>Twitter for iPhone</td>\n",
       "      <td>సికింద్రాబాద్... భారత్‌ను మరింత సంపన్నమైన దేశం...</td>\n",
       "    </tr>\n",
       "    <tr>\n",
       "      <th>3</th>\n",
       "      <td>2019-04-01 03:09:43</td>\n",
       "      <td>3565.0</td>\n",
       "      <td>886.0</td>\n",
       "      <td>Twitter for iPhone</td>\n",
       "      <td>ఈరోజు నేను రాజమండ్రిలో ఒక ర్యాలీలో మాట్లాడుతున...</td>\n",
       "    </tr>\n",
       "    <tr>\n",
       "      <th>4</th>\n",
       "      <td>2019-04-01 03:07:57</td>\n",
       "      <td>10178.0</td>\n",
       "      <td>1919.0</td>\n",
       "      <td>Twitter for iPhone</td>\n",
       "      <td>केंद्र आणि राज्य सरकारने जी लोकाभिमुख कामे केल...</td>\n",
       "    </tr>\n",
       "    <tr>\n",
       "      <th>5</th>\n",
       "      <td>2019-04-01 03:07:56</td>\n",
       "      <td>12785.0</td>\n",
       "      <td>2540.0</td>\n",
       "      <td>Twitter for iPhone</td>\n",
       "      <td>महाराष्ट्रातील माझ्या प्रिय बंधू आणि भगिनींना ...</td>\n",
       "    </tr>\n",
       "    <tr>\n",
       "      <th>6</th>\n",
       "      <td>2019-03-31 16:35:37</td>\n",
       "      <td>17665.0</td>\n",
       "      <td>5349.0</td>\n",
       "      <td>Twitter Media Studio</td>\n",
       "      <td>आगरा के राजेश वाल्मीकि जी को मेरा नमन!\\n\\nबड़े...</td>\n",
       "    </tr>\n",
       "    <tr>\n",
       "      <th>7</th>\n",
       "      <td>2019-03-31 16:35:19</td>\n",
       "      <td>10219.0</td>\n",
       "      <td>3336.0</td>\n",
       "      <td>Twitter Media Studio</td>\n",
       "      <td>The conduct of our Opposition has angered Indi...</td>\n",
       "    </tr>\n",
       "    <tr>\n",
       "      <th>8</th>\n",
       "      <td>2019-03-31 16:34:57</td>\n",
       "      <td>12997.0</td>\n",
       "      <td>3524.0</td>\n",
       "      <td>Twitter Media Studio</td>\n",
       "      <td>आज भारत का हर युवा चाहता है कि देश विकसित बने ...</td>\n",
       "    </tr>\n",
       "    <tr>\n",
       "      <th>9</th>\n",
       "      <td>2019-03-31 16:34:47</td>\n",
       "      <td>24812.0</td>\n",
       "      <td>7063.0</td>\n",
       "      <td>Twitter Media Studio</td>\n",
       "      <td>Your vote in 2014:\\n\\nBrought fear among the c...</td>\n",
       "    </tr>\n",
       "    <tr>\n",
       "      <th>10</th>\n",
       "      <td>2019-03-31 16:33:51</td>\n",
       "      <td>18730.0</td>\n",
       "      <td>5466.0</td>\n",
       "      <td>Twitter Media Studio</td>\n",
       "      <td>चौकीदार ना कोई व्यवस्था है, ना यह किसी यूनिफॉर...</td>\n",
       "    </tr>\n",
       "    <tr>\n",
       "      <th>11</th>\n",
       "      <td>2019-03-31 16:33:31</td>\n",
       "      <td>13309.0</td>\n",
       "      <td>3732.0</td>\n",
       "      <td>Twitter Web Client</td>\n",
       "      <td>India came together and said in one voice- #Ma...</td>\n",
       "    </tr>\n",
       "    <tr>\n",
       "      <th>12</th>\n",
       "      <td>2019-03-31 11:38:58</td>\n",
       "      <td>28822.0</td>\n",
       "      <td>9783.0</td>\n",
       "      <td>Periscope</td>\n",
       "      <td>We are all Chowkidars, committed to a strong &amp;...</td>\n",
       "    </tr>\n",
       "    <tr>\n",
       "      <th>13</th>\n",
       "      <td>2019-03-31 05:16:02</td>\n",
       "      <td>16043.0</td>\n",
       "      <td>5049.0</td>\n",
       "      <td>Periscope</td>\n",
       "      <td>Addressing the Rashtriya Sammelan of the newly...</td>\n",
       "    </tr>\n",
       "    <tr>\n",
       "      <th>14</th>\n",
       "      <td>2019-03-31 03:11:40</td>\n",
       "      <td>26611.0</td>\n",
       "      <td>7231.0</td>\n",
       "      <td>Twitter for iPhone</td>\n",
       "      <td>There are lakhs of Chowkidars in every part of...</td>\n",
       "    </tr>\n",
       "    <tr>\n",
       "      <th>15</th>\n",
       "      <td>2019-03-31 03:11:02</td>\n",
       "      <td>32508.0</td>\n",
       "      <td>7141.0</td>\n",
       "      <td>Twitter for iPhone</td>\n",
       "      <td>Am sure the community of vibrant professionals...</td>\n",
       "    </tr>\n",
       "    <tr>\n",
       "      <th>16</th>\n",
       "      <td>2019-03-31 03:09:55</td>\n",
       "      <td>17368.0</td>\n",
       "      <td>5264.0</td>\n",
       "      <td>Twitter for iPhone</td>\n",
       "      <td>The day we were most looking forward to is her...</td>\n",
       "    </tr>\n",
       "    <tr>\n",
       "      <th>17</th>\n",
       "      <td>2019-03-30 16:59:03</td>\n",
       "      <td>26934.0</td>\n",
       "      <td>6897.0</td>\n",
       "      <td>Twitter Media Studio</td>\n",
       "      <td>A gratifying day in the Northeast.\\n\\nThis is ...</td>\n",
       "    </tr>\n",
       "    <tr>\n",
       "      <th>18</th>\n",
       "      <td>2019-03-30 16:57:56</td>\n",
       "      <td>17345.0</td>\n",
       "      <td>4476.0</td>\n",
       "      <td>Twitter Media Studio</td>\n",
       "      <td>I asked the people of Assam:\\n\\nWill those who...</td>\n",
       "    </tr>\n",
       "    <tr>\n",
       "      <th>19</th>\n",
       "      <td>2019-03-30 16:56:49</td>\n",
       "      <td>15974.0</td>\n",
       "      <td>3966.0</td>\n",
       "      <td>Twitter Web Client</td>\n",
       "      <td>Even the large ground in Gohpur was too small ...</td>\n",
       "    </tr>\n",
       "    <tr>\n",
       "      <th>20</th>\n",
       "      <td>2019-03-30 13:58:36</td>\n",
       "      <td>25460.0</td>\n",
       "      <td>6098.0</td>\n",
       "      <td>Twitter Media Studio</td>\n",
       "      <td>चायवालों का दर्द ये चायवाला ही समझ सकता है।\\n\\...</td>\n",
       "    </tr>\n",
       "    <tr>\n",
       "      <th>21</th>\n",
       "      <td>2019-03-30 13:54:47</td>\n",
       "      <td>38007.0</td>\n",
       "      <td>9103.0</td>\n",
       "      <td>Twitter Media Studio</td>\n",
       "      <td>भारत को दमदार सरकार चाहिए, दागदार सरकार नहीं।\\...</td>\n",
       "    </tr>\n",
       "    <tr>\n",
       "      <th>22</th>\n",
       "      <td>2019-03-30 13:50:42</td>\n",
       "      <td>10446.0</td>\n",
       "      <td>2809.0</td>\n",
       "      <td>Twitter Web Client</td>\n",
       "      <td>Moran has overwhelmed me with the record affec...</td>\n",
       "    </tr>\n",
       "    <tr>\n",
       "      <th>23</th>\n",
       "      <td>2019-03-30 11:34:46</td>\n",
       "      <td>18424.0</td>\n",
       "      <td>5420.0</td>\n",
       "      <td>Twitter Media Studio</td>\n",
       "      <td>The strongest ally of Congress is corruption. ...</td>\n",
       "    </tr>\n",
       "    <tr>\n",
       "      <th>24</th>\n",
       "      <td>2019-03-30 11:33:01</td>\n",
       "      <td>10830.0</td>\n",
       "      <td>3131.0</td>\n",
       "      <td>Twitter Media Studio</td>\n",
       "      <td>Totally disconnected from people, Congress fai...</td>\n",
       "    </tr>\n",
       "    <tr>\n",
       "      <th>25</th>\n",
       "      <td>2019-03-30 11:31:41</td>\n",
       "      <td>9469.0</td>\n",
       "      <td>2894.0</td>\n",
       "      <td>Twitter Media Studio</td>\n",
       "      <td>In neglecting aspirations of the Northeast, no...</td>\n",
       "    </tr>\n",
       "    <tr>\n",
       "      <th>26</th>\n",
       "      <td>2019-03-30 11:30:56</td>\n",
       "      <td>11750.0</td>\n",
       "      <td>3253.0</td>\n",
       "      <td>Twitter Web Client</td>\n",
       "      <td>Arunachal Pradesh represents the best of India...</td>\n",
       "    </tr>\n",
       "    <tr>\n",
       "      <th>27</th>\n",
       "      <td>2019-03-30 09:45:32</td>\n",
       "      <td>15730.0</td>\n",
       "      <td>4441.0</td>\n",
       "      <td>Periscope</td>\n",
       "      <td>Come here to Gohpur and see how much affection...</td>\n",
       "    </tr>\n",
       "    <tr>\n",
       "      <th>28</th>\n",
       "      <td>2019-03-30 09:04:27</td>\n",
       "      <td>48548.0</td>\n",
       "      <td>13195.0</td>\n",
       "      <td>Twitter for iPhone</td>\n",
       "      <td>हृदय की गहराइयों से इस गीत के रूप में निकला आप...</td>\n",
       "    </tr>\n",
       "    <tr>\n",
       "      <th>29</th>\n",
       "      <td>2019-03-30 07:54:13</td>\n",
       "      <td>17141.0</td>\n",
       "      <td>4651.0</td>\n",
       "      <td>Periscope</td>\n",
       "      <td>Euphoric atmosphere in Moran. Assam’s support ...</td>\n",
       "    </tr>\n",
       "    <tr>\n",
       "      <th>...</th>\n",
       "      <td>...</td>\n",
       "      <td>...</td>\n",
       "      <td>...</td>\n",
       "      <td>...</td>\n",
       "      <td>...</td>\n",
       "    </tr>\n",
       "    <tr>\n",
       "      <th>170</th>\n",
       "      <td>2019-03-16 03:30:15</td>\n",
       "      <td>160812.0</td>\n",
       "      <td>56400.0</td>\n",
       "      <td>Twitter Ads Composer</td>\n",
       "      <td>Your Chowkidar is standing firm &amp;amp; serving ...</td>\n",
       "    </tr>\n",
       "    <tr>\n",
       "      <th>171</th>\n",
       "      <td>2019-03-15 13:02:35</td>\n",
       "      <td>37275.0</td>\n",
       "      <td>10403.0</td>\n",
       "      <td>Twitter Web Client</td>\n",
       "      <td>This is a New India, where a person’s performa...</td>\n",
       "    </tr>\n",
       "    <tr>\n",
       "      <th>172</th>\n",
       "      <td>2019-03-15 12:57:54</td>\n",
       "      <td>20002.0</td>\n",
       "      <td>5257.0</td>\n",
       "      <td>Twitter Web Client</td>\n",
       "      <td>Public transport is convenient and comfortable...</td>\n",
       "    </tr>\n",
       "    <tr>\n",
       "      <th>173</th>\n",
       "      <td>2019-03-15 12:51:06</td>\n",
       "      <td>44424.0</td>\n",
       "      <td>7625.0</td>\n",
       "      <td>Twitter Web Client</td>\n",
       "      <td>Happy to see this! https://t.co/26gvVum5T9</td>\n",
       "    </tr>\n",
       "    <tr>\n",
       "      <th>174</th>\n",
       "      <td>2019-03-15 12:50:10</td>\n",
       "      <td>18409.0</td>\n",
       "      <td>4347.0</td>\n",
       "      <td>Twitter Web Client</td>\n",
       "      <td>Honoured that we have got the opportunity to w...</td>\n",
       "    </tr>\n",
       "    <tr>\n",
       "      <th>175</th>\n",
       "      <td>2019-03-15 12:49:48</td>\n",
       "      <td>20506.0</td>\n",
       "      <td>4268.0</td>\n",
       "      <td>Twitter Web Client</td>\n",
       "      <td>Thanks for the faith in our work. https://t.co...</td>\n",
       "    </tr>\n",
       "    <tr>\n",
       "      <th>176</th>\n",
       "      <td>2019-03-14 16:09:52</td>\n",
       "      <td>46406.0</td>\n",
       "      <td>9561.0</td>\n",
       "      <td>Twitter for iPhone</td>\n",
       "      <td>Deeply anguished by the loss of lives due to t...</td>\n",
       "    </tr>\n",
       "    <tr>\n",
       "      <th>177</th>\n",
       "      <td>2019-03-14 13:23:26</td>\n",
       "      <td>32707.0</td>\n",
       "      <td>6994.0</td>\n",
       "      <td>Twitter Web Client</td>\n",
       "      <td>Joined the ceremony to mark the presentation o...</td>\n",
       "    </tr>\n",
       "    <tr>\n",
       "      <th>178</th>\n",
       "      <td>2019-03-14 13:18:25</td>\n",
       "      <td>20670.0</td>\n",
       "      <td>5047.0</td>\n",
       "      <td>Twitter Web Client</td>\n",
       "      <td>India First, India always! https://t.co/XKXkcb...</td>\n",
       "    </tr>\n",
       "    <tr>\n",
       "      <th>179</th>\n",
       "      <td>2019-03-14 13:18:00</td>\n",
       "      <td>19066.0</td>\n",
       "      <td>5108.0</td>\n",
       "      <td>Twitter Web Client</td>\n",
       "      <td>Great gesture! \\n\\nAlso, Kudos to the great Da...</td>\n",
       "    </tr>\n",
       "    <tr>\n",
       "      <th>180</th>\n",
       "      <td>2019-03-14 13:17:13</td>\n",
       "      <td>15439.0</td>\n",
       "      <td>4315.0</td>\n",
       "      <td>Twitter Web Client</td>\n",
       "      <td>Voting in high numbers is not about politics b...</td>\n",
       "    </tr>\n",
       "    <tr>\n",
       "      <th>181</th>\n",
       "      <td>2019-03-14 13:16:30</td>\n",
       "      <td>15359.0</td>\n",
       "      <td>3788.0</td>\n",
       "      <td>Twitter Web Client</td>\n",
       "      <td>Good effort! \\n\\nKeep doing so till the electi...</td>\n",
       "    </tr>\n",
       "    <tr>\n",
       "      <th>182</th>\n",
       "      <td>2019-03-14 13:15:26</td>\n",
       "      <td>20753.0</td>\n",
       "      <td>5115.0</td>\n",
       "      <td>Twitter Web Client</td>\n",
       "      <td>Happy to know that Jan Aushadhi stores are red...</td>\n",
       "    </tr>\n",
       "    <tr>\n",
       "      <th>183</th>\n",
       "      <td>2019-03-14 11:24:40</td>\n",
       "      <td>33579.0</td>\n",
       "      <td>8743.0</td>\n",
       "      <td>Twitter Web Client</td>\n",
       "      <td>With the blessings of 130 crore Indians, what ...</td>\n",
       "    </tr>\n",
       "    <tr>\n",
       "      <th>184</th>\n",
       "      <td>2019-03-13 12:40:22</td>\n",
       "      <td>54531.0</td>\n",
       "      <td>15245.0</td>\n",
       "      <td>Twitter for iPhone</td>\n",
       "      <td>No place for middlemen.\\n\\nNo tolerance for co...</td>\n",
       "    </tr>\n",
       "    <tr>\n",
       "      <th>185</th>\n",
       "      <td>2019-03-13 05:30:30</td>\n",
       "      <td>76971.0</td>\n",
       "      <td>19900.0</td>\n",
       "      <td>Twitter Web Client</td>\n",
       "      <td>My fellow Indians, \\n\\nUrging you all to stren...</td>\n",
       "    </tr>\n",
       "    <tr>\n",
       "      <th>186</th>\n",
       "      <td>2019-03-13 05:25:00</td>\n",
       "      <td>23791.0</td>\n",
       "      <td>6033.0</td>\n",
       "      <td>Twitter Web Client</td>\n",
       "      <td>Dear @mathrubhumieng, @dinathanthi and Eenadu,...</td>\n",
       "    </tr>\n",
       "    <tr>\n",
       "      <th>187</th>\n",
       "      <td>2019-03-13 05:16:40</td>\n",
       "      <td>19013.0</td>\n",
       "      <td>5520.0</td>\n",
       "      <td>Twitter Web Client</td>\n",
       "      <td>The media plays a vital role in a democracy. \\...</td>\n",
       "    </tr>\n",
       "    <tr>\n",
       "      <th>188</th>\n",
       "      <td>2019-03-13 05:15:53</td>\n",
       "      <td>43211.0</td>\n",
       "      <td>10110.0</td>\n",
       "      <td>Twitter Web Client</td>\n",
       "      <td>Urging @SrBachchan, @iamsrk and @karanjohar to...</td>\n",
       "    </tr>\n",
       "    <tr>\n",
       "      <th>189</th>\n",
       "      <td>2019-03-13 05:14:38</td>\n",
       "      <td>50043.0</td>\n",
       "      <td>12165.0</td>\n",
       "      <td>Twitter Web Client</td>\n",
       "      <td>Voting is not only a right but it’s also a dut...</td>\n",
       "    </tr>\n",
       "    <tr>\n",
       "      <th>190</th>\n",
       "      <td>2019-03-13 05:13:48</td>\n",
       "      <td>38001.0</td>\n",
       "      <td>8866.0</td>\n",
       "      <td>Twitter Web Client</td>\n",
       "      <td>Dear @akshaykumar, @bhumipednekar and @ayushma...</td>\n",
       "    </tr>\n",
       "    <tr>\n",
       "      <th>191</th>\n",
       "      <td>2019-03-13 05:12:51</td>\n",
       "      <td>23297.0</td>\n",
       "      <td>6185.0</td>\n",
       "      <td>Twitter Web Client</td>\n",
       "      <td>I call upon veterans of the media world, @Raja...</td>\n",
       "    </tr>\n",
       "    <tr>\n",
       "      <th>192</th>\n",
       "      <td>2019-03-13 05:12:14</td>\n",
       "      <td>49798.0</td>\n",
       "      <td>12152.0</td>\n",
       "      <td>Twitter Web Client</td>\n",
       "      <td>Dear @msdhoni, @imVkohli and @ImRo45, \\nYou ar...</td>\n",
       "    </tr>\n",
       "    <tr>\n",
       "      <th>193</th>\n",
       "      <td>2019-03-13 05:10:49</td>\n",
       "      <td>28578.0</td>\n",
       "      <td>8282.0</td>\n",
       "      <td>Twitter Web Client</td>\n",
       "      <td>I appeal to @RSSorg, NCC, NSS, Nehru Yuva Kend...</td>\n",
       "    </tr>\n",
       "    <tr>\n",
       "      <th>194</th>\n",
       "      <td>2019-03-13 05:10:06</td>\n",
       "      <td>26708.0</td>\n",
       "      <td>6939.0</td>\n",
       "      <td>Twitter Web Client</td>\n",
       "      <td>Dear @anilkumble1074, @VVSLaxman281 and @viren...</td>\n",
       "    </tr>\n",
       "    <tr>\n",
       "      <th>195</th>\n",
       "      <td>2019-03-13 05:09:20</td>\n",
       "      <td>49115.0</td>\n",
       "      <td>13046.0</td>\n",
       "      <td>Twitter Web Client</td>\n",
       "      <td>I appeal to @RubikaLiyaquat, @anjanaomkashyap,...</td>\n",
       "    </tr>\n",
       "    <tr>\n",
       "      <th>196</th>\n",
       "      <td>2019-03-13 05:08:27</td>\n",
       "      <td>20072.0</td>\n",
       "      <td>5642.0</td>\n",
       "      <td>Twitter Web Client</td>\n",
       "      <td>Dear @BajrangPunia, @shankar_live and @Bajpaye...</td>\n",
       "    </tr>\n",
       "    <tr>\n",
       "      <th>197</th>\n",
       "      <td>2019-03-13 05:05:30</td>\n",
       "      <td>22754.0</td>\n",
       "      <td>6251.0</td>\n",
       "      <td>Twitter Web Client</td>\n",
       "      <td>The prolific Phogat sisters, @geeta_phogat, @B...</td>\n",
       "    </tr>\n",
       "    <tr>\n",
       "      <th>198</th>\n",
       "      <td>2019-03-13 05:04:37</td>\n",
       "      <td>27949.0</td>\n",
       "      <td>6670.0</td>\n",
       "      <td>Twitter Web Client</td>\n",
       "      <td>Requesting @deepikapadukone, @aliaa08 and @Anu...</td>\n",
       "    </tr>\n",
       "    <tr>\n",
       "      <th>199</th>\n",
       "      <td>2019-03-13 05:01:03</td>\n",
       "      <td>27109.0</td>\n",
       "      <td>7170.0</td>\n",
       "      <td>Twitter Web Client</td>\n",
       "      <td>Respected @CitiznMukherjee, \\nBeing among Indi...</td>\n",
       "    </tr>\n",
       "  </tbody>\n",
       "</table>\n",
       "<p>200 rows × 5 columns</p>\n",
       "</div>"
      ],
      "text/plain": [
       "             created_at     likes  retweets                source  \\\n",
       "0   2019-04-01 03:28:25    6444.0    1633.0    Twitter for iPhone   \n",
       "1   2019-04-01 03:14:06    3984.0    1074.0    Twitter for iPhone   \n",
       "2   2019-04-01 03:11:17    3070.0     788.0    Twitter for iPhone   \n",
       "3   2019-04-01 03:09:43    3565.0     886.0    Twitter for iPhone   \n",
       "4   2019-04-01 03:07:57   10178.0    1919.0    Twitter for iPhone   \n",
       "5   2019-04-01 03:07:56   12785.0    2540.0    Twitter for iPhone   \n",
       "6   2019-03-31 16:35:37   17665.0    5349.0  Twitter Media Studio   \n",
       "7   2019-03-31 16:35:19   10219.0    3336.0  Twitter Media Studio   \n",
       "8   2019-03-31 16:34:57   12997.0    3524.0  Twitter Media Studio   \n",
       "9   2019-03-31 16:34:47   24812.0    7063.0  Twitter Media Studio   \n",
       "10  2019-03-31 16:33:51   18730.0    5466.0  Twitter Media Studio   \n",
       "11  2019-03-31 16:33:31   13309.0    3732.0    Twitter Web Client   \n",
       "12  2019-03-31 11:38:58   28822.0    9783.0             Periscope   \n",
       "13  2019-03-31 05:16:02   16043.0    5049.0             Periscope   \n",
       "14  2019-03-31 03:11:40   26611.0    7231.0    Twitter for iPhone   \n",
       "15  2019-03-31 03:11:02   32508.0    7141.0    Twitter for iPhone   \n",
       "16  2019-03-31 03:09:55   17368.0    5264.0    Twitter for iPhone   \n",
       "17  2019-03-30 16:59:03   26934.0    6897.0  Twitter Media Studio   \n",
       "18  2019-03-30 16:57:56   17345.0    4476.0  Twitter Media Studio   \n",
       "19  2019-03-30 16:56:49   15974.0    3966.0    Twitter Web Client   \n",
       "20  2019-03-30 13:58:36   25460.0    6098.0  Twitter Media Studio   \n",
       "21  2019-03-30 13:54:47   38007.0    9103.0  Twitter Media Studio   \n",
       "22  2019-03-30 13:50:42   10446.0    2809.0    Twitter Web Client   \n",
       "23  2019-03-30 11:34:46   18424.0    5420.0  Twitter Media Studio   \n",
       "24  2019-03-30 11:33:01   10830.0    3131.0  Twitter Media Studio   \n",
       "25  2019-03-30 11:31:41    9469.0    2894.0  Twitter Media Studio   \n",
       "26  2019-03-30 11:30:56   11750.0    3253.0    Twitter Web Client   \n",
       "27  2019-03-30 09:45:32   15730.0    4441.0             Periscope   \n",
       "28  2019-03-30 09:04:27   48548.0   13195.0    Twitter for iPhone   \n",
       "29  2019-03-30 07:54:13   17141.0    4651.0             Periscope   \n",
       "..                  ...       ...       ...                   ...   \n",
       "170 2019-03-16 03:30:15  160812.0   56400.0  Twitter Ads Composer   \n",
       "171 2019-03-15 13:02:35   37275.0   10403.0    Twitter Web Client   \n",
       "172 2019-03-15 12:57:54   20002.0    5257.0    Twitter Web Client   \n",
       "173 2019-03-15 12:51:06   44424.0    7625.0    Twitter Web Client   \n",
       "174 2019-03-15 12:50:10   18409.0    4347.0    Twitter Web Client   \n",
       "175 2019-03-15 12:49:48   20506.0    4268.0    Twitter Web Client   \n",
       "176 2019-03-14 16:09:52   46406.0    9561.0    Twitter for iPhone   \n",
       "177 2019-03-14 13:23:26   32707.0    6994.0    Twitter Web Client   \n",
       "178 2019-03-14 13:18:25   20670.0    5047.0    Twitter Web Client   \n",
       "179 2019-03-14 13:18:00   19066.0    5108.0    Twitter Web Client   \n",
       "180 2019-03-14 13:17:13   15439.0    4315.0    Twitter Web Client   \n",
       "181 2019-03-14 13:16:30   15359.0    3788.0    Twitter Web Client   \n",
       "182 2019-03-14 13:15:26   20753.0    5115.0    Twitter Web Client   \n",
       "183 2019-03-14 11:24:40   33579.0    8743.0    Twitter Web Client   \n",
       "184 2019-03-13 12:40:22   54531.0   15245.0    Twitter for iPhone   \n",
       "185 2019-03-13 05:30:30   76971.0   19900.0    Twitter Web Client   \n",
       "186 2019-03-13 05:25:00   23791.0    6033.0    Twitter Web Client   \n",
       "187 2019-03-13 05:16:40   19013.0    5520.0    Twitter Web Client   \n",
       "188 2019-03-13 05:15:53   43211.0   10110.0    Twitter Web Client   \n",
       "189 2019-03-13 05:14:38   50043.0   12165.0    Twitter Web Client   \n",
       "190 2019-03-13 05:13:48   38001.0    8866.0    Twitter Web Client   \n",
       "191 2019-03-13 05:12:51   23297.0    6185.0    Twitter Web Client   \n",
       "192 2019-03-13 05:12:14   49798.0   12152.0    Twitter Web Client   \n",
       "193 2019-03-13 05:10:49   28578.0    8282.0    Twitter Web Client   \n",
       "194 2019-03-13 05:10:06   26708.0    6939.0    Twitter Web Client   \n",
       "195 2019-03-13 05:09:20   49115.0   13046.0    Twitter Web Client   \n",
       "196 2019-03-13 05:08:27   20072.0    5642.0    Twitter Web Client   \n",
       "197 2019-03-13 05:05:30   22754.0    6251.0    Twitter Web Client   \n",
       "198 2019-03-13 05:04:37   27949.0    6670.0    Twitter Web Client   \n",
       "199 2019-03-13 05:01:03   27109.0    7170.0    Twitter Web Client   \n",
       "\n",
       "                                                  text  \n",
       "0    I bow to His Holiness Dr. Sree Sree Sree Sivak...  \n",
       "1    Utkala Dibasa greetings to my sisters and brot...  \n",
       "2    సికింద్రాబాద్... భారత్‌ను మరింత సంపన్నమైన దేశం...  \n",
       "3    ఈరోజు నేను రాజమండ్రిలో ఒక ర్యాలీలో మాట్లాడుతున...  \n",
       "4    केंद्र आणि राज्य सरकारने जी लोकाभिमुख कामे केल...  \n",
       "5    महाराष्ट्रातील माझ्या प्रिय बंधू आणि भगिनींना ...  \n",
       "6    आगरा के राजेश वाल्मीकि जी को मेरा नमन!\\n\\nबड़े...  \n",
       "7    The conduct of our Opposition has angered Indi...  \n",
       "8    आज भारत का हर युवा चाहता है कि देश विकसित बने ...  \n",
       "9    Your vote in 2014:\\n\\nBrought fear among the c...  \n",
       "10   चौकीदार ना कोई व्यवस्था है, ना यह किसी यूनिफॉर...  \n",
       "11   India came together and said in one voice- #Ma...  \n",
       "12   We are all Chowkidars, committed to a strong &...  \n",
       "13   Addressing the Rashtriya Sammelan of the newly...  \n",
       "14   There are lakhs of Chowkidars in every part of...  \n",
       "15   Am sure the community of vibrant professionals...  \n",
       "16   The day we were most looking forward to is her...  \n",
       "17   A gratifying day in the Northeast.\\n\\nThis is ...  \n",
       "18   I asked the people of Assam:\\n\\nWill those who...  \n",
       "19   Even the large ground in Gohpur was too small ...  \n",
       "20   चायवालों का दर्द ये चायवाला ही समझ सकता है।\\n\\...  \n",
       "21   भारत को दमदार सरकार चाहिए, दागदार सरकार नहीं।\\...  \n",
       "22   Moran has overwhelmed me with the record affec...  \n",
       "23   The strongest ally of Congress is corruption. ...  \n",
       "24   Totally disconnected from people, Congress fai...  \n",
       "25   In neglecting aspirations of the Northeast, no...  \n",
       "26   Arunachal Pradesh represents the best of India...  \n",
       "27   Come here to Gohpur and see how much affection...  \n",
       "28   हृदय की गहराइयों से इस गीत के रूप में निकला आप...  \n",
       "29   Euphoric atmosphere in Moran. Assam’s support ...  \n",
       "..                                                 ...  \n",
       "170  Your Chowkidar is standing firm &amp; serving ...  \n",
       "171  This is a New India, where a person’s performa...  \n",
       "172  Public transport is convenient and comfortable...  \n",
       "173         Happy to see this! https://t.co/26gvVum5T9  \n",
       "174  Honoured that we have got the opportunity to w...  \n",
       "175  Thanks for the faith in our work. https://t.co...  \n",
       "176  Deeply anguished by the loss of lives due to t...  \n",
       "177  Joined the ceremony to mark the presentation o...  \n",
       "178  India First, India always! https://t.co/XKXkcb...  \n",
       "179  Great gesture! \\n\\nAlso, Kudos to the great Da...  \n",
       "180  Voting in high numbers is not about politics b...  \n",
       "181  Good effort! \\n\\nKeep doing so till the electi...  \n",
       "182  Happy to know that Jan Aushadhi stores are red...  \n",
       "183  With the blessings of 130 crore Indians, what ...  \n",
       "184  No place for middlemen.\\n\\nNo tolerance for co...  \n",
       "185  My fellow Indians, \\n\\nUrging you all to stren...  \n",
       "186  Dear @mathrubhumieng, @dinathanthi and Eenadu,...  \n",
       "187  The media plays a vital role in a democracy. \\...  \n",
       "188  Urging @SrBachchan, @iamsrk and @karanjohar to...  \n",
       "189  Voting is not only a right but it’s also a dut...  \n",
       "190  Dear @akshaykumar, @bhumipednekar and @ayushma...  \n",
       "191  I call upon veterans of the media world, @Raja...  \n",
       "192  Dear @msdhoni, @imVkohli and @ImRo45, \\nYou ar...  \n",
       "193  I appeal to @RSSorg, NCC, NSS, Nehru Yuva Kend...  \n",
       "194  Dear @anilkumble1074, @VVSLaxman281 and @viren...  \n",
       "195  I appeal to @RubikaLiyaquat, @anjanaomkashyap,...  \n",
       "196  Dear @BajrangPunia, @shankar_live and @Bajpaye...  \n",
       "197  The prolific Phogat sisters, @geeta_phogat, @B...  \n",
       "198  Requesting @deepikapadukone, @aliaa08 and @Anu...  \n",
       "199  Respected @CitiznMukherjee, \\nBeing among Indi...  \n",
       "\n",
       "[200 rows x 5 columns]"
      ]
     },
     "execution_count": 46,
     "metadata": {},
     "output_type": "execute_result"
    }
   ],
   "source": [
    "df_modi_tweets = pd.DataFrame()\n",
    "for tweet in modi_tweets:\n",
    "    curr_tweet = {\n",
    "        'text': tweet.text,\n",
    "        'likes':tweet.favorite_count,\n",
    "        'retweets':tweet.retweet_count,\n",
    "        'created_at':tweet.created_at,\n",
    "        'source':tweet.source\n",
    "    }\n",
    "    df_modi_tweets = df_modi_tweets.append(curr_tweet, ignore_index=True)\n",
    "df_modi_tweets"
   ]
  },
  {
   "cell_type": "code",
   "execution_count": 49,
   "metadata": {},
   "outputs": [],
   "source": [
    "df_modi_tweets = pd.DataFrame()\n",
    "for page in range(1,21):\n",
    "    modi_tweets = api.user_timeline('narendramodi', page=page,count=200)\n",
    "\n",
    "    for tweet in modi_tweets:\n",
    "        curr_tweet = {\n",
    "            'text': tweet.text,\n",
    "            'likes':tweet.favorite_count,\n",
    "            'retweets':tweet.retweet_count,\n",
    "            'created_at':tweet.created_at,\n",
    "            'source':tweet.source\n",
    "        }\n",
    "        df_modi_tweets = df_modi_tweets.append(curr_tweet, ignore_index=True)\n"
   ]
  },
  {
   "cell_type": "code",
   "execution_count": 50,
   "metadata": {},
   "outputs": [
    {
     "data": {
      "text/plain": [
       "(3215, 5)"
      ]
     },
     "execution_count": 50,
     "metadata": {},
     "output_type": "execute_result"
    }
   ],
   "source": [
    "df_modi_tweets.shape"
   ]
  },
  {
   "cell_type": "code",
   "execution_count": 51,
   "metadata": {},
   "outputs": [],
   "source": [
    "df_modi_tweets.to_csv('narendramodi_tweets.csv',index=False,encoding='utf-8')"
   ]
  },
  {
   "cell_type": "code",
   "execution_count": 52,
   "metadata": {},
   "outputs": [
    {
     "data": {
      "text/plain": [
       "'D:\\\\DSW\\\\Day1'"
      ]
     },
     "execution_count": 52,
     "metadata": {},
     "output_type": "execute_result"
    }
   ],
   "source": [
    "os.getcwd()"
   ]
  },
  {
   "cell_type": "markdown",
   "metadata": {},
   "source": [
    "# Twitter Analysis"
   ]
  },
  {
   "cell_type": "code",
   "execution_count": 53,
   "metadata": {},
   "outputs": [
    {
     "data": {
      "text/plain": [
       "Twitter Web Client      1633\n",
       "Twitter Media Studio     741\n",
       "Twitter for iPhone       535\n",
       "Periscope                213\n",
       "Twitter for Android       92\n",
       "Twitter Ads Composer       1\n",
       "Name: source, dtype: int64"
      ]
     },
     "execution_count": 53,
     "metadata": {},
     "output_type": "execute_result"
    }
   ],
   "source": [
    "df_modi_tweets['source'].value_counts()"
   ]
  },
  {
   "cell_type": "code",
   "execution_count": 56,
   "metadata": {},
   "outputs": [
    {
     "data": {
      "text/html": [
       "<div>\n",
       "<style scoped>\n",
       "    .dataframe tbody tr th:only-of-type {\n",
       "        vertical-align: middle;\n",
       "    }\n",
       "\n",
       "    .dataframe tbody tr th {\n",
       "        vertical-align: top;\n",
       "    }\n",
       "\n",
       "    .dataframe thead th {\n",
       "        text-align: right;\n",
       "    }\n",
       "</style>\n",
       "<table border=\"1\" class=\"dataframe\">\n",
       "  <thead>\n",
       "    <tr style=\"text-align: right;\">\n",
       "      <th></th>\n",
       "      <th>created_at</th>\n",
       "      <th>likes</th>\n",
       "      <th>retweets</th>\n",
       "      <th>source</th>\n",
       "      <th>text</th>\n",
       "    </tr>\n",
       "  </thead>\n",
       "  <tbody>\n",
       "    <tr>\n",
       "      <th>357</th>\n",
       "      <td>2019-03-01 16:34:29</td>\n",
       "      <td>271910.0</td>\n",
       "      <td>66477.0</td>\n",
       "      <td>Twitter for iPhone</td>\n",
       "      <td>Welcome Home Wing Commander Abhinandan!\\n\\nThe...</td>\n",
       "    </tr>\n",
       "  </tbody>\n",
       "</table>\n",
       "</div>"
      ],
      "text/plain": [
       "             created_at     likes  retweets              source  \\\n",
       "357 2019-03-01 16:34:29  271910.0   66477.0  Twitter for iPhone   \n",
       "\n",
       "                                                  text  \n",
       "357  Welcome Home Wing Commander Abhinandan!\\n\\nThe...  "
      ]
     },
     "execution_count": 56,
     "metadata": {},
     "output_type": "execute_result"
    }
   ],
   "source": [
    "df_modi_tweets.sort_values(by='likes',ascending=False).head(1)"
   ]
  },
  {
   "cell_type": "code",
   "execution_count": 58,
   "metadata": {},
   "outputs": [
    {
     "data": {
      "text/plain": [
       "0   2019-04-01 03:28:25\n",
       "1   2019-04-01 03:14:06\n",
       "2   2019-04-01 03:11:17\n",
       "3   2019-04-01 03:09:43\n",
       "4   2019-04-01 03:07:57\n",
       "Name: date, dtype: datetime64[ns]"
      ]
     },
     "execution_count": 58,
     "metadata": {},
     "output_type": "execute_result"
    }
   ],
   "source": [
    "df_modi_tweets['date']=pd.to_datetime(\n",
    "             df_modi_tweets['created_at'])\n",
    "df_modi_tweets['date'].head()"
   ]
  },
  {
   "cell_type": "code",
   "execution_count": 60,
   "metadata": {},
   "outputs": [
    {
     "data": {
      "text/plain": [
       "(Timestamp('2018-06-21 10:36:05'), Timestamp('2019-04-01 03:28:25'))"
      ]
     },
     "execution_count": 60,
     "metadata": {},
     "output_type": "execute_result"
    }
   ],
   "source": [
    "#min date #max date\n",
    "df_modi_tweets['date'].min(), df_modi_tweets['date'].max()"
   ]
  },
  {
   "cell_type": "code",
   "execution_count": 65,
   "metadata": {},
   "outputs": [
    {
     "data": {
      "text/plain": [
       "0     13\n",
       "1     52\n",
       "2    138\n",
       "3    126\n",
       "4     82\n",
       "Name: hour, dtype: int64"
      ]
     },
     "execution_count": 65,
     "metadata": {},
     "output_type": "execute_result"
    }
   ],
   "source": [
    "df_modi_tweets['hour'] = df_modi_tweets['date'].dt.hour\n",
    "df_modi_tweets['hour'].value_counts().sort_index().head()"
   ]
  },
  {
   "cell_type": "code",
   "execution_count": 63,
   "metadata": {},
   "outputs": [
    {
     "data": {
      "text/plain": [
       "<matplotlib.axes._subplots.AxesSubplot at 0x228cbe4e128>"
      ]
     },
     "execution_count": 63,
     "metadata": {},
     "output_type": "execute_result"
    },
    {
     "data": {
      "image/png": "[encoded data removed]",
      "text/plain": [
       "<Figure size 432x288 with 1 Axes>"
      ]
     },
     "metadata": {
      "needs_background": "light"
     },
     "output_type": "display_data"
    }
   ],
   "source": [
    "%matplotlib inline\n",
    "df_modi_tweets['hour'] = df_modi_tweets['date'].dt.hour\n",
    "df_modi_tweets['hour'].value_counts().sort_index().plot.line()"
   ]
  },
  {
   "cell_type": "code",
   "execution_count": 66,
   "metadata": {},
   "outputs": [],
   "source": [
    "from pytz import timezone\n",
    "#india_timezone = pytz.timezone('Asia/Calcutta')\n",
    "#df_modi_tweets['date'].apply(lambda v: indian.localize(v)).dt.hour"
   ]
  },
  {
   "cell_type": "code",
   "execution_count": 70,
   "metadata": {},
   "outputs": [
    {
     "data": {
      "text/plain": [
       "<matplotlib.image.AxesImage at 0x228ce4ebd30>"
      ]
     },
     "execution_count": 70,
     "metadata": {},
     "output_type": "execute_result"
    },
    {
     "data": {
      "image/png": "[encoded data removed]",
      "text/plain": [
       "<Figure size 432x288 with 1 Axes>"
      ]
     },
     "metadata": {
      "needs_background": "light"
     },
     "output_type": "display_data"
    }
   ],
   "source": [
    "from wordcloud import WordCloud\n",
    "import matplotlib.pyplot as plt\n",
    "docs = df_modi_tweets['text'].str.lower()\n",
    "docs = docs.str.replace('co','').str.replace('https','')\n",
    "wc = WordCloud(background_color='white').generate(' '.join(docs))\n",
    "plt.imshow(wc)"
   ]
  },
  {
   "cell_type": "markdown",
   "metadata": {},
   "source": [
    "# To Identify the frequency of each and every hashtag used by modi\n",
    "- Create a empty list called as 'hashtag'\n",
    "- Loop through each tweet\n",
    "- Break tweet in words by split string by space\n",
    "- Identify if a word startswith #\n",
    "- If so, append the word to 'hashtags' list\n",
    "- Convert list to Series and use values_counts to get frequency of each hashtag\n",
    "- plot it into matplotlib to visualize top 10 hastags using horizontal bar chart"
   ]
  },
  {
   "cell_type": "code",
   "execution_count": 71,
   "metadata": {},
   "outputs": [
    {
     "data": {
      "text/plain": [
       "<matplotlib.axes._subplots.AxesSubplot at 0x228ce81ca58>"
      ]
     },
     "execution_count": 71,
     "metadata": {},
     "output_type": "execute_result"
    },
    {
     "data": {
      "image/png": "[encoded data removed]",
      "text/plain": [
       "<Figure size 432x288 with 1 Axes>"
      ]
     },
     "metadata": {
      "needs_background": "light"
     },
     "output_type": "display_data"
    }
   ],
   "source": [
    "hashtags=[]\n",
    "for tweet in df_modi_tweets['text']:\n",
    "    words = tweet.split(' ')\n",
    "    tags = [word for word in words if word.startswith('#')]\n",
    "    hashtags.extend(tags)\n",
    "pd.Series(hashtags).value_counts().head()[::-1].plot.barh(color='orange')"
   ]
  },
  {
   "cell_type": "markdown",
   "metadata": {},
   "source": [
    "# What is the frequency of hashtag on various months"
   ]
  },
  {
   "cell_type": "code",
   "execution_count": 84,
   "metadata": {},
   "outputs": [
    {
     "data": {
      "text/plain": [
       "<matplotlib.axes._subplots.AxesSubplot at 0x228d53006d8>"
      ]
     },
     "execution_count": 84,
     "metadata": {},
     "output_type": "execute_result"
    },
    {
     "data": {
      "image/png": "[encoded data removed]",
      "text/plain": [
       "<Figure size 432x288 with 1 Axes>"
      ]
     },
     "metadata": {
      "needs_background": "light"
     },
     "output_type": "display_data"
    }
   ],
   "source": [
    "df_modi_tweets['month_year'] = df_modi_tweets['date'].dt.strftime('%Y-%m')\n",
    "\n",
    "df_modi_tweets['mannkibaat']=df_modi_tweets['text'].apply(lambda text: 1 if '#MannKiBaat' in text else 0)\n",
    "#df_modi_tweets[['month','mannkibaat']].head()\n",
    "df_modi_tweets.groupby('month_year')['mannkibaat'].sum().plot.bar(color='green')"
   ]
  },
  {
   "cell_type": "code",
   "execution_count": 76,
   "metadata": {},
   "outputs": [],
   "source": [
    "df_modi_tweets['day'] = df_modi_tweets['date'].dt.day\n",
    "\n",
    "df_modi_tweets['weekday'] = df_modi_tweets['date'].dt.strftime('%A')\n",
    "df_modi_tweets['hour'] = df_modi_tweets['date'].dt.hour"
   ]
  },
  {
   "cell_type": "code",
   "execution_count": 78,
   "metadata": {},
   "outputs": [
    {
     "data": {
      "text/html": [
       "<div>\n",
       "<style scoped>\n",
       "    .dataframe tbody tr th:only-of-type {\n",
       "        vertical-align: middle;\n",
       "    }\n",
       "\n",
       "    .dataframe tbody tr th {\n",
       "        vertical-align: top;\n",
       "    }\n",
       "\n",
       "    .dataframe thead th {\n",
       "        text-align: right;\n",
       "    }\n",
       "</style>\n",
       "<table border=\"1\" class=\"dataframe\">\n",
       "  <thead>\n",
       "    <tr style=\"text-align: right;\">\n",
       "      <th>day</th>\n",
       "      <th>1</th>\n",
       "      <th>2</th>\n",
       "      <th>3</th>\n",
       "      <th>4</th>\n",
       "      <th>5</th>\n",
       "      <th>6</th>\n",
       "      <th>7</th>\n",
       "      <th>8</th>\n",
       "      <th>9</th>\n",
       "      <th>10</th>\n",
       "      <th>...</th>\n",
       "      <th>22</th>\n",
       "      <th>23</th>\n",
       "      <th>24</th>\n",
       "      <th>25</th>\n",
       "      <th>26</th>\n",
       "      <th>27</th>\n",
       "      <th>28</th>\n",
       "      <th>29</th>\n",
       "      <th>30</th>\n",
       "      <th>31</th>\n",
       "    </tr>\n",
       "    <tr>\n",
       "      <th>month_year</th>\n",
       "      <th></th>\n",
       "      <th></th>\n",
       "      <th></th>\n",
       "      <th></th>\n",
       "      <th></th>\n",
       "      <th></th>\n",
       "      <th></th>\n",
       "      <th></th>\n",
       "      <th></th>\n",
       "      <th></th>\n",
       "      <th></th>\n",
       "      <th></th>\n",
       "      <th></th>\n",
       "      <th></th>\n",
       "      <th></th>\n",
       "      <th></th>\n",
       "      <th></th>\n",
       "      <th></th>\n",
       "      <th></th>\n",
       "      <th></th>\n",
       "      <th></th>\n",
       "    </tr>\n",
       "  </thead>\n",
       "  <tbody>\n",
       "    <tr>\n",
       "      <th>2018-06</th>\n",
       "      <td>NaN</td>\n",
       "      <td>NaN</td>\n",
       "      <td>NaN</td>\n",
       "      <td>NaN</td>\n",
       "      <td>NaN</td>\n",
       "      <td>NaN</td>\n",
       "      <td>NaN</td>\n",
       "      <td>NaN</td>\n",
       "      <td>NaN</td>\n",
       "      <td>NaN</td>\n",
       "      <td>...</td>\n",
       "      <td>3.0</td>\n",
       "      <td>11.0</td>\n",
       "      <td>10.0</td>\n",
       "      <td>3.0</td>\n",
       "      <td>19.0</td>\n",
       "      <td>8.0</td>\n",
       "      <td>9.0</td>\n",
       "      <td>7.0</td>\n",
       "      <td>4.0</td>\n",
       "      <td>NaN</td>\n",
       "    </tr>\n",
       "    <tr>\n",
       "      <th>2018-07</th>\n",
       "      <td>9.0</td>\n",
       "      <td>3.0</td>\n",
       "      <td>2.0</td>\n",
       "      <td>9.0</td>\n",
       "      <td>2.0</td>\n",
       "      <td>5.0</td>\n",
       "      <td>6.0</td>\n",
       "      <td>2.0</td>\n",
       "      <td>8.0</td>\n",
       "      <td>8.0</td>\n",
       "      <td>...</td>\n",
       "      <td>7.0</td>\n",
       "      <td>7.0</td>\n",
       "      <td>10.0</td>\n",
       "      <td>8.0</td>\n",
       "      <td>10.0</td>\n",
       "      <td>7.0</td>\n",
       "      <td>5.0</td>\n",
       "      <td>18.0</td>\n",
       "      <td>5.0</td>\n",
       "      <td>2.0</td>\n",
       "    </tr>\n",
       "    <tr>\n",
       "      <th>2018-08</th>\n",
       "      <td>5.0</td>\n",
       "      <td>6.0</td>\n",
       "      <td>8.0</td>\n",
       "      <td>1.0</td>\n",
       "      <td>2.0</td>\n",
       "      <td>5.0</td>\n",
       "      <td>13.0</td>\n",
       "      <td>2.0</td>\n",
       "      <td>8.0</td>\n",
       "      <td>8.0</td>\n",
       "      <td>...</td>\n",
       "      <td>7.0</td>\n",
       "      <td>13.0</td>\n",
       "      <td>7.0</td>\n",
       "      <td>6.0</td>\n",
       "      <td>19.0</td>\n",
       "      <td>9.0</td>\n",
       "      <td>10.0</td>\n",
       "      <td>14.0</td>\n",
       "      <td>10.0</td>\n",
       "      <td>19.0</td>\n",
       "    </tr>\n",
       "    <tr>\n",
       "      <th>2018-09</th>\n",
       "      <td>13.0</td>\n",
       "      <td>6.0</td>\n",
       "      <td>7.0</td>\n",
       "      <td>49.0</td>\n",
       "      <td>25.0</td>\n",
       "      <td>3.0</td>\n",
       "      <td>5.0</td>\n",
       "      <td>2.0</td>\n",
       "      <td>1.0</td>\n",
       "      <td>7.0</td>\n",
       "      <td>...</td>\n",
       "      <td>11.0</td>\n",
       "      <td>8.0</td>\n",
       "      <td>2.0</td>\n",
       "      <td>16.0</td>\n",
       "      <td>6.0</td>\n",
       "      <td>22.0</td>\n",
       "      <td>8.0</td>\n",
       "      <td>13.0</td>\n",
       "      <td>20.0</td>\n",
       "      <td>NaN</td>\n",
       "    </tr>\n",
       "    <tr>\n",
       "      <th>2018-10</th>\n",
       "      <td>4.0</td>\n",
       "      <td>40.0</td>\n",
       "      <td>10.0</td>\n",
       "      <td>13.0</td>\n",
       "      <td>8.0</td>\n",
       "      <td>14.0</td>\n",
       "      <td>7.0</td>\n",
       "      <td>3.0</td>\n",
       "      <td>8.0</td>\n",
       "      <td>9.0</td>\n",
       "      <td>...</td>\n",
       "      <td>11.0</td>\n",
       "      <td>14.0</td>\n",
       "      <td>16.0</td>\n",
       "      <td>7.0</td>\n",
       "      <td>10.0</td>\n",
       "      <td>11.0</td>\n",
       "      <td>13.0</td>\n",
       "      <td>11.0</td>\n",
       "      <td>14.0</td>\n",
       "      <td>27.0</td>\n",
       "    </tr>\n",
       "    <tr>\n",
       "      <th>2018-11</th>\n",
       "      <td>11.0</td>\n",
       "      <td>15.0</td>\n",
       "      <td>7.0</td>\n",
       "      <td>7.0</td>\n",
       "      <td>14.0</td>\n",
       "      <td>10.0</td>\n",
       "      <td>9.0</td>\n",
       "      <td>6.0</td>\n",
       "      <td>10.0</td>\n",
       "      <td>7.0</td>\n",
       "      <td>...</td>\n",
       "      <td>6.0</td>\n",
       "      <td>12.0</td>\n",
       "      <td>16.0</td>\n",
       "      <td>26.0</td>\n",
       "      <td>21.0</td>\n",
       "      <td>19.0</td>\n",
       "      <td>13.0</td>\n",
       "      <td>5.0</td>\n",
       "      <td>14.0</td>\n",
       "      <td>NaN</td>\n",
       "    </tr>\n",
       "    <tr>\n",
       "      <th>2018-12</th>\n",
       "      <td>23.0</td>\n",
       "      <td>3.0</td>\n",
       "      <td>17.0</td>\n",
       "      <td>13.0</td>\n",
       "      <td>11.0</td>\n",
       "      <td>2.0</td>\n",
       "      <td>7.0</td>\n",
       "      <td>1.0</td>\n",
       "      <td>7.0</td>\n",
       "      <td>7.0</td>\n",
       "      <td>...</td>\n",
       "      <td>8.0</td>\n",
       "      <td>15.0</td>\n",
       "      <td>15.0</td>\n",
       "      <td>13.0</td>\n",
       "      <td>5.0</td>\n",
       "      <td>6.0</td>\n",
       "      <td>10.0</td>\n",
       "      <td>11.0</td>\n",
       "      <td>22.0</td>\n",
       "      <td>10.0</td>\n",
       "    </tr>\n",
       "    <tr>\n",
       "      <th>2019-01</th>\n",
       "      <td>4.0</td>\n",
       "      <td>9.0</td>\n",
       "      <td>13.0</td>\n",
       "      <td>13.0</td>\n",
       "      <td>12.0</td>\n",
       "      <td>5.0</td>\n",
       "      <td>1.0</td>\n",
       "      <td>14.0</td>\n",
       "      <td>13.0</td>\n",
       "      <td>3.0</td>\n",
       "      <td>...</td>\n",
       "      <td>8.0</td>\n",
       "      <td>13.0</td>\n",
       "      <td>31.0</td>\n",
       "      <td>15.0</td>\n",
       "      <td>8.0</td>\n",
       "      <td>15.0</td>\n",
       "      <td>15.0</td>\n",
       "      <td>17.0</td>\n",
       "      <td>13.0</td>\n",
       "      <td>2.0</td>\n",
       "    </tr>\n",
       "    <tr>\n",
       "      <th>2019-02</th>\n",
       "      <td>3.0</td>\n",
       "      <td>12.0</td>\n",
       "      <td>16.0</td>\n",
       "      <td>3.0</td>\n",
       "      <td>2.0</td>\n",
       "      <td>1.0</td>\n",
       "      <td>8.0</td>\n",
       "      <td>15.0</td>\n",
       "      <td>17.0</td>\n",
       "      <td>19.0</td>\n",
       "      <td>...</td>\n",
       "      <td>13.0</td>\n",
       "      <td>13.0</td>\n",
       "      <td>22.0</td>\n",
       "      <td>14.0</td>\n",
       "      <td>7.0</td>\n",
       "      <td>1.0</td>\n",
       "      <td>1.0</td>\n",
       "      <td>NaN</td>\n",
       "      <td>NaN</td>\n",
       "      <td>NaN</td>\n",
       "    </tr>\n",
       "    <tr>\n",
       "      <th>2019-03</th>\n",
       "      <td>4.0</td>\n",
       "      <td>7.0</td>\n",
       "      <td>23.0</td>\n",
       "      <td>12.0</td>\n",
       "      <td>11.0</td>\n",
       "      <td>18.0</td>\n",
       "      <td>12.0</td>\n",
       "      <td>22.0</td>\n",
       "      <td>10.0</td>\n",
       "      <td>12.0</td>\n",
       "      <td>...</td>\n",
       "      <td>7.0</td>\n",
       "      <td>4.0</td>\n",
       "      <td>26.0</td>\n",
       "      <td>5.0</td>\n",
       "      <td>NaN</td>\n",
       "      <td>11.0</td>\n",
       "      <td>10.0</td>\n",
       "      <td>25.0</td>\n",
       "      <td>19.0</td>\n",
       "      <td>11.0</td>\n",
       "    </tr>\n",
       "    <tr>\n",
       "      <th>2019-04</th>\n",
       "      <td>6.0</td>\n",
       "      <td>NaN</td>\n",
       "      <td>NaN</td>\n",
       "      <td>NaN</td>\n",
       "      <td>NaN</td>\n",
       "      <td>NaN</td>\n",
       "      <td>NaN</td>\n",
       "      <td>NaN</td>\n",
       "      <td>NaN</td>\n",
       "      <td>NaN</td>\n",
       "      <td>...</td>\n",
       "      <td>NaN</td>\n",
       "      <td>NaN</td>\n",
       "      <td>NaN</td>\n",
       "      <td>NaN</td>\n",
       "      <td>NaN</td>\n",
       "      <td>NaN</td>\n",
       "      <td>NaN</td>\n",
       "      <td>NaN</td>\n",
       "      <td>NaN</td>\n",
       "      <td>NaN</td>\n",
       "    </tr>\n",
       "  </tbody>\n",
       "</table>\n",
       "<p>11 rows × 31 columns</p>\n",
       "</div>"
      ],
      "text/plain": [
       "day           1     2     3     4     5     6     7     8     9     10  ...   \\\n",
       "month_year                                                              ...    \n",
       "2018-06      NaN   NaN   NaN   NaN   NaN   NaN   NaN   NaN   NaN   NaN  ...    \n",
       "2018-07      9.0   3.0   2.0   9.0   2.0   5.0   6.0   2.0   8.0   8.0  ...    \n",
       "2018-08      5.0   6.0   8.0   1.0   2.0   5.0  13.0   2.0   8.0   8.0  ...    \n",
       "2018-09     13.0   6.0   7.0  49.0  25.0   3.0   5.0   2.0   1.0   7.0  ...    \n",
       "2018-10      4.0  40.0  10.0  13.0   8.0  14.0   7.0   3.0   8.0   9.0  ...    \n",
       "2018-11     11.0  15.0   7.0   7.0  14.0  10.0   9.0   6.0  10.0   7.0  ...    \n",
       "2018-12     23.0   3.0  17.0  13.0  11.0   2.0   7.0   1.0   7.0   7.0  ...    \n",
       "2019-01      4.0   9.0  13.0  13.0  12.0   5.0   1.0  14.0  13.0   3.0  ...    \n",
       "2019-02      3.0  12.0  16.0   3.0   2.0   1.0   8.0  15.0  17.0  19.0  ...    \n",
       "2019-03      4.0   7.0  23.0  12.0  11.0  18.0  12.0  22.0  10.0  12.0  ...    \n",
       "2019-04      6.0   NaN   NaN   NaN   NaN   NaN   NaN   NaN   NaN   NaN  ...    \n",
       "\n",
       "day           22    23    24    25    26    27    28    29    30    31  \n",
       "month_year                                                              \n",
       "2018-06      3.0  11.0  10.0   3.0  19.0   8.0   9.0   7.0   4.0   NaN  \n",
       "2018-07      7.0   7.0  10.0   8.0  10.0   7.0   5.0  18.0   5.0   2.0  \n",
       "2018-08      7.0  13.0   7.0   6.0  19.0   9.0  10.0  14.0  10.0  19.0  \n",
       "2018-09     11.0   8.0   2.0  16.0   6.0  22.0   8.0  13.0  20.0   NaN  \n",
       "2018-10     11.0  14.0  16.0   7.0  10.0  11.0  13.0  11.0  14.0  27.0  \n",
       "2018-11      6.0  12.0  16.0  26.0  21.0  19.0  13.0   5.0  14.0   NaN  \n",
       "2018-12      8.0  15.0  15.0  13.0   5.0   6.0  10.0  11.0  22.0  10.0  \n",
       "2019-01      8.0  13.0  31.0  15.0   8.0  15.0  15.0  17.0  13.0   2.0  \n",
       "2019-02     13.0  13.0  22.0  14.0   7.0   1.0   1.0   NaN   NaN   NaN  \n",
       "2019-03      7.0   4.0  26.0   5.0   NaN  11.0  10.0  25.0  19.0  11.0  \n",
       "2019-04      NaN   NaN   NaN   NaN   NaN   NaN   NaN   NaN   NaN   NaN  \n",
       "\n",
       "[11 rows x 31 columns]"
      ]
     },
     "execution_count": 78,
     "metadata": {},
     "output_type": "execute_result"
    }
   ],
   "source": [
    "summary = df_modi_tweets.groupby(\n",
    "    ['month_year','day']).size().reset_index()\n",
    "summary = summary.rename(columns={0: 'count'})\n",
    "summary_pivot = summary.pivot_table(index='month_year',\n",
    "                                   columns='day',\n",
    "                                   values='count') \n",
    "summary_pivot"
   ]
  },
  {
   "cell_type": "code",
   "execution_count": 80,
   "metadata": {},
   "outputs": [
    {
     "data": {
      "text/plain": [
       "<matplotlib.axes._subplots.AxesSubplot at 0x228ce4535f8>"
      ]
     },
     "execution_count": 80,
     "metadata": {},
     "output_type": "execute_result"
    },
    {
     "data": {
      "image/png": "[encoded data removed]",
      "text/plain": [
       "<Figure size 432x288 with 2 Axes>"
      ]
     },
     "metadata": {
      "needs_background": "light"
     },
     "output_type": "display_data"
    }
   ],
   "source": [
    "import seaborn as sns\n",
    "sns.heatmap(summary_pivot, cmap='Blues')"
   ]
  },
  {
   "cell_type": "code",
   "execution_count": 82,
   "metadata": {},
   "outputs": [
    {
     "data": {
      "text/plain": [
       "<matplotlib.axes._subplots.AxesSubplot at 0x228cf0d1c18>"
      ]
     },
     "execution_count": 82,
     "metadata": {},
     "output_type": "execute_result"
    },
    {
     "data": {
      "image/png": "[encoded data removed]",
      "text/plain": [
       "<Figure size 432x288 with 2 Axes>"
      ]
     },
     "metadata": {
      "needs_background": "light"
     },
     "output_type": "display_data"
    }
   ],
   "source": [
    "summary = df_modi_tweets.groupby(\n",
    "    ['month_year','day'])['retweets'].mean().reset_index()\n",
    "summary = summary.rename(columns={0: 'retweets'})\n",
    "summary_pivot = summary.pivot_table(index='month_year',\n",
    "                                   columns='day',\n",
    "                                   values='retweets') \n",
    "\n",
    "import seaborn as sns\n",
    "sns.heatmap(summary_pivot, cmap='Blues')"
   ]
  },
  {
   "cell_type": "markdown",
   "metadata": {},
   "source": [
    "# Twitter Scrapping for a hashtag/search Term"
   ]
  },
  {
   "cell_type": "code",
   "execution_count": 85,
   "metadata": {},
   "outputs": [
    {
     "data": {
      "text/plain": [
       "87"
      ]
     },
     "execution_count": 85,
     "metadata": {},
     "output_type": "execute_result"
    }
   ],
   "source": [
    "tweets = api.search('#ModiMatBanao',count=200)\n",
    "len(tweets)"
   ]
  },
  {
   "cell_type": "code",
   "execution_count": 110,
   "metadata": {},
   "outputs": [
    {
     "ename": "TweepError",
     "evalue": "Twitter error response: status code = 429",
     "output_type": "error",
     "traceback": [
      "\u001b[1;31m---------------------------------------------------------------------------\u001b[0m",
      "\u001b[1;31mTweepError\u001b[0m                                Traceback (most recent call last)",
      "\u001b[1;32m<ipython-input-110-f6c5f9af1528>\u001b[0m in \u001b[0;36m<module>\u001b[1;34m\u001b[0m\n\u001b[0;32m      1\u001b[0m \u001b[1;31m#tweets[0]._json\u001b[0m\u001b[1;33m\u001b[0m\u001b[1;33m\u001b[0m\u001b[1;33m\u001b[0m\u001b[0m\n\u001b[0;32m      2\u001b[0m \u001b[0mtweets_df\u001b[0m\u001b[1;33m=\u001b[0m\u001b[0mpd\u001b[0m\u001b[1;33m.\u001b[0m\u001b[0mDataFrame\u001b[0m\u001b[1;33m(\u001b[0m\u001b[1;33m)\u001b[0m\u001b[1;33m\u001b[0m\u001b[1;33m\u001b[0m\u001b[0m\n\u001b[1;32m----> 3\u001b[1;33m \u001b[1;32mfor\u001b[0m \u001b[0mtweet\u001b[0m \u001b[1;32min\u001b[0m \u001b[0mtweepy\u001b[0m\u001b[1;33m.\u001b[0m\u001b[0mCursor\u001b[0m\u001b[1;33m(\u001b[0m\u001b[0mapi\u001b[0m\u001b[1;33m.\u001b[0m\u001b[0msearch\u001b[0m\u001b[1;33m,\u001b[0m \u001b[1;34m'#ModiMatBanao'\u001b[0m\u001b[1;33m)\u001b[0m\u001b[1;33m.\u001b[0m\u001b[0mitems\u001b[0m\u001b[1;33m(\u001b[0m\u001b[1;33m)\u001b[0m\u001b[1;33m:\u001b[0m\u001b[1;33m\u001b[0m\u001b[1;33m\u001b[0m\u001b[0m\n\u001b[0m\u001b[0;32m      4\u001b[0m     \u001b[1;31m#for tweet in tweets:\u001b[0m\u001b[1;33m\u001b[0m\u001b[1;33m\u001b[0m\u001b[1;33m\u001b[0m\u001b[0m\n\u001b[0;32m      5\u001b[0m         \u001b[1;31m#print(tweet.user.location)\u001b[0m\u001b[1;33m\u001b[0m\u001b[1;33m\u001b[0m\u001b[1;33m\u001b[0m\u001b[0m\n",
      "\u001b[1;32mC:\\ProgramData\\Anaconda3\\lib\\site-packages\\tweepy\\cursor.py\u001b[0m in \u001b[0;36m__next__\u001b[1;34m(self)\u001b[0m\n\u001b[0;32m     47\u001b[0m \u001b[1;33m\u001b[0m\u001b[0m\n\u001b[0;32m     48\u001b[0m     \u001b[1;32mdef\u001b[0m \u001b[0m__next__\u001b[0m\u001b[1;33m(\u001b[0m\u001b[0mself\u001b[0m\u001b[1;33m)\u001b[0m\u001b[1;33m:\u001b[0m\u001b[1;33m\u001b[0m\u001b[1;33m\u001b[0m\u001b[0m\n\u001b[1;32m---> 49\u001b[1;33m         \u001b[1;32mreturn\u001b[0m \u001b[0mself\u001b[0m\u001b[1;33m.\u001b[0m\u001b[0mnext\u001b[0m\u001b[1;33m(\u001b[0m\u001b[1;33m)\u001b[0m\u001b[1;33m\u001b[0m\u001b[1;33m\u001b[0m\u001b[0m\n\u001b[0m\u001b[0;32m     50\u001b[0m \u001b[1;33m\u001b[0m\u001b[0m\n\u001b[0;32m     51\u001b[0m     \u001b[1;32mdef\u001b[0m \u001b[0mnext\u001b[0m\u001b[1;33m(\u001b[0m\u001b[0mself\u001b[0m\u001b[1;33m)\u001b[0m\u001b[1;33m:\u001b[0m\u001b[1;33m\u001b[0m\u001b[1;33m\u001b[0m\u001b[0m\n",
      "\u001b[1;32mC:\\ProgramData\\Anaconda3\\lib\\site-packages\\tweepy\\cursor.py\u001b[0m in \u001b[0;36mnext\u001b[1;34m(self)\u001b[0m\n\u001b[0;32m    195\u001b[0m         \u001b[1;32mif\u001b[0m \u001b[0mself\u001b[0m\u001b[1;33m.\u001b[0m\u001b[0mcurrent_page\u001b[0m \u001b[1;32mis\u001b[0m \u001b[1;32mNone\u001b[0m \u001b[1;32mor\u001b[0m \u001b[0mself\u001b[0m\u001b[1;33m.\u001b[0m\u001b[0mpage_index\u001b[0m \u001b[1;33m==\u001b[0m \u001b[0mlen\u001b[0m\u001b[1;33m(\u001b[0m\u001b[0mself\u001b[0m\u001b[1;33m.\u001b[0m\u001b[0mcurrent_page\u001b[0m\u001b[1;33m)\u001b[0m \u001b[1;33m-\u001b[0m \u001b[1;36m1\u001b[0m\u001b[1;33m:\u001b[0m\u001b[1;33m\u001b[0m\u001b[1;33m\u001b[0m\u001b[0m\n\u001b[0;32m    196\u001b[0m             \u001b[1;31m# Reached end of current page, get the next page...\u001b[0m\u001b[1;33m\u001b[0m\u001b[1;33m\u001b[0m\u001b[1;33m\u001b[0m\u001b[0m\n\u001b[1;32m--> 197\u001b[1;33m             \u001b[0mself\u001b[0m\u001b[1;33m.\u001b[0m\u001b[0mcurrent_page\u001b[0m \u001b[1;33m=\u001b[0m \u001b[0mself\u001b[0m\u001b[1;33m.\u001b[0m\u001b[0mpage_iterator\u001b[0m\u001b[1;33m.\u001b[0m\u001b[0mnext\u001b[0m\u001b[1;33m(\u001b[0m\u001b[1;33m)\u001b[0m\u001b[1;33m\u001b[0m\u001b[1;33m\u001b[0m\u001b[0m\n\u001b[0m\u001b[0;32m    198\u001b[0m             \u001b[0mself\u001b[0m\u001b[1;33m.\u001b[0m\u001b[0mpage_index\u001b[0m \u001b[1;33m=\u001b[0m \u001b[1;33m-\u001b[0m\u001b[1;36m1\u001b[0m\u001b[1;33m\u001b[0m\u001b[1;33m\u001b[0m\u001b[0m\n\u001b[0;32m    199\u001b[0m         \u001b[0mself\u001b[0m\u001b[1;33m.\u001b[0m\u001b[0mpage_index\u001b[0m \u001b[1;33m+=\u001b[0m \u001b[1;36m1\u001b[0m\u001b[1;33m\u001b[0m\u001b[1;33m\u001b[0m\u001b[0m\n",
      "\u001b[1;32mC:\\ProgramData\\Anaconda3\\lib\\site-packages\\tweepy\\cursor.py\u001b[0m in \u001b[0;36mnext\u001b[1;34m(self)\u001b[0m\n\u001b[0;32m    106\u001b[0m \u001b[1;33m\u001b[0m\u001b[0m\n\u001b[0;32m    107\u001b[0m         \u001b[1;32mif\u001b[0m \u001b[0mself\u001b[0m\u001b[1;33m.\u001b[0m\u001b[0mindex\u001b[0m \u001b[1;33m>=\u001b[0m \u001b[0mlen\u001b[0m\u001b[1;33m(\u001b[0m\u001b[0mself\u001b[0m\u001b[1;33m.\u001b[0m\u001b[0mresults\u001b[0m\u001b[1;33m)\u001b[0m \u001b[1;33m-\u001b[0m \u001b[1;36m1\u001b[0m\u001b[1;33m:\u001b[0m\u001b[1;33m\u001b[0m\u001b[1;33m\u001b[0m\u001b[0m\n\u001b[1;32m--> 108\u001b[1;33m             \u001b[0mdata\u001b[0m \u001b[1;33m=\u001b[0m \u001b[0mself\u001b[0m\u001b[1;33m.\u001b[0m\u001b[0mmethod\u001b[0m\u001b[1;33m(\u001b[0m\u001b[0mmax_id\u001b[0m\u001b[1;33m=\u001b[0m\u001b[0mself\u001b[0m\u001b[1;33m.\u001b[0m\u001b[0mmax_id\u001b[0m\u001b[1;33m,\u001b[0m \u001b[0mparser\u001b[0m\u001b[1;33m=\u001b[0m\u001b[0mRawParser\u001b[0m\u001b[1;33m(\u001b[0m\u001b[1;33m)\u001b[0m\u001b[1;33m,\u001b[0m \u001b[1;33m*\u001b[0m\u001b[0mself\u001b[0m\u001b[1;33m.\u001b[0m\u001b[0margs\u001b[0m\u001b[1;33m,\u001b[0m \u001b[1;33m**\u001b[0m\u001b[0mself\u001b[0m\u001b[1;33m.\u001b[0m\u001b[0mkargs\u001b[0m\u001b[1;33m)\u001b[0m\u001b[1;33m\u001b[0m\u001b[1;33m\u001b[0m\u001b[0m\n\u001b[0m\u001b[0;32m    109\u001b[0m \u001b[1;33m\u001b[0m\u001b[0m\n\u001b[0;32m    110\u001b[0m             \u001b[1;32mif\u001b[0m \u001b[0mhasattr\u001b[0m\u001b[1;33m(\u001b[0m\u001b[0mself\u001b[0m\u001b[1;33m.\u001b[0m\u001b[0mmethod\u001b[0m\u001b[1;33m,\u001b[0m \u001b[1;34m'__self__'\u001b[0m\u001b[1;33m)\u001b[0m\u001b[1;33m:\u001b[0m\u001b[1;33m\u001b[0m\u001b[1;33m\u001b[0m\u001b[0m\n",
      "\u001b[1;32mC:\\ProgramData\\Anaconda3\\lib\\site-packages\\tweepy\\binder.py\u001b[0m in \u001b[0;36m_call\u001b[1;34m(*args, **kwargs)\u001b[0m\n\u001b[0;32m    248\u001b[0m             \u001b[1;32mreturn\u001b[0m \u001b[0mmethod\u001b[0m\u001b[1;33m\u001b[0m\u001b[1;33m\u001b[0m\u001b[0m\n\u001b[0;32m    249\u001b[0m         \u001b[1;32melse\u001b[0m\u001b[1;33m:\u001b[0m\u001b[1;33m\u001b[0m\u001b[1;33m\u001b[0m\u001b[0m\n\u001b[1;32m--> 250\u001b[1;33m             \u001b[1;32mreturn\u001b[0m \u001b[0mmethod\u001b[0m\u001b[1;33m.\u001b[0m\u001b[0mexecute\u001b[0m\u001b[1;33m(\u001b[0m\u001b[1;33m)\u001b[0m\u001b[1;33m\u001b[0m\u001b[1;33m\u001b[0m\u001b[0m\n\u001b[0m\u001b[0;32m    251\u001b[0m \u001b[1;33m\u001b[0m\u001b[0m\n\u001b[0;32m    252\u001b[0m     \u001b[1;31m# Set pagination mode\u001b[0m\u001b[1;33m\u001b[0m\u001b[1;33m\u001b[0m\u001b[1;33m\u001b[0m\u001b[0m\n",
      "\u001b[1;32mC:\\ProgramData\\Anaconda3\\lib\\site-packages\\tweepy\\binder.py\u001b[0m in \u001b[0;36mexecute\u001b[1;34m(self)\u001b[0m\n\u001b[0;32m    232\u001b[0m                     \u001b[1;32mraise\u001b[0m \u001b[0mRateLimitError\u001b[0m\u001b[1;33m(\u001b[0m\u001b[0merror_msg\u001b[0m\u001b[1;33m,\u001b[0m \u001b[0mresp\u001b[0m\u001b[1;33m)\u001b[0m\u001b[1;33m\u001b[0m\u001b[1;33m\u001b[0m\u001b[0m\n\u001b[0;32m    233\u001b[0m                 \u001b[1;32melse\u001b[0m\u001b[1;33m:\u001b[0m\u001b[1;33m\u001b[0m\u001b[1;33m\u001b[0m\u001b[0m\n\u001b[1;32m--> 234\u001b[1;33m                     \u001b[1;32mraise\u001b[0m \u001b[0mTweepError\u001b[0m\u001b[1;33m(\u001b[0m\u001b[0merror_msg\u001b[0m\u001b[1;33m,\u001b[0m \u001b[0mresp\u001b[0m\u001b[1;33m,\u001b[0m \u001b[0mapi_code\u001b[0m\u001b[1;33m=\u001b[0m\u001b[0mapi_error_code\u001b[0m\u001b[1;33m)\u001b[0m\u001b[1;33m\u001b[0m\u001b[1;33m\u001b[0m\u001b[0m\n\u001b[0m\u001b[0;32m    235\u001b[0m \u001b[1;33m\u001b[0m\u001b[0m\n\u001b[0;32m    236\u001b[0m             \u001b[1;31m# Parse the response payload\u001b[0m\u001b[1;33m\u001b[0m\u001b[1;33m\u001b[0m\u001b[1;33m\u001b[0m\u001b[0m\n",
      "\u001b[1;31mTweepError\u001b[0m: Twitter error response: status code = 429"
     ]
    }
   ],
   "source": [
    "#tweets[0]._json \n",
    "tweets_df=pd.DataFrame()\n",
    "for tweet in tweepy.Cursor(api.search, '#ModiMatBanao').items():\n",
    "    #for tweet in tweets:\n",
    "        #print(tweet.user.location)\n",
    "        #print(tweet.user.name, tweet.user.screen_name)\n",
    "        #print(tweet.user.friends_count, tweet.user.description)\n",
    "        #print(tweet)\n",
    "        curr_tweet = {\n",
    "            'display_name':tweet.user.name,\n",
    "            'handler_name':tweet.user.screen_name,\n",
    "            'text':tweet.text,\n",
    "            'created_at':tweet.created_at,\n",
    "            'followers':tweet.user.followers_count,\n",
    "            'friends':tweet.user.friends_count,\n",
    "            'user_description': tweet.user.description,\n",
    "            'user_location':tweet.user.location,\n",
    "            'likes':tweet.favorite_count,\n",
    "            'retweets':tweet.retweet_count,\n",
    "        }\n",
    "        tweets_df=tweets_df.append(curr_tweet, ignore_index=True)\n",
    "tweets_df"
   ]
  },
  {
   "cell_type": "code",
   "execution_count": 132,
   "metadata": {},
   "outputs": [
    {
     "data": {
      "text/plain": [
       "0                    kapasan Rajasthan \n",
       "1                                   NaN\n",
       "2                         Mumbai, India\n",
       "3                                 India\n",
       "4                      Bengaluru, India\n",
       "5                                   NaN\n",
       "6                  Al Farwaniya, Kuwait\n",
       "7                                 India\n",
       "8                                   NaN\n",
       "9                        Naugarh, India\n",
       "10                                  NaN\n",
       "11                                  NaN\n",
       "12                                  NaN\n",
       "13                                  NaN\n",
       "14                     New Delhi, India\n",
       "15                                Qatar\n",
       "16                                  NaN\n",
       "17       Bettiah, West Champaran, Bihar\n",
       "18                                  NaN\n",
       "19           Fatehpur(U.P.),DEL,CCU,RAJ\n",
       "20              Asansol , Jamui , India\n",
       "21       Bettiah, West Champaran, Bihar\n",
       "22                                  NaN\n",
       "23                          Kota, India\n",
       "24                  Non Reliable Indian\n",
       "25                          Kota, India\n",
       "26                       Narnaul, India\n",
       "27                     New Delhi, India\n",
       "28         sitapur Uttar Pradesh, India\n",
       "29                        Nashik, India\n",
       "                     ...               \n",
       "2245                              Delhi\n",
       "2246              कल्याण डोंबीवली, भारत\n",
       "2247                   Karnataka, India\n",
       "2248              कल्याण डोंबीवली, भारत\n",
       "2249              कल्याण डोंबीवली, भारत\n",
       "2250        Dubai, United Arab Emirates\n",
       "2251    Riyadh, Kingdom of Saudi Arabia\n",
       "2252                         कोटा, भारत\n",
       "2253                                NaN\n",
       "2254              Madhya Pradesh, India\n",
       "2255                               PUNE\n",
       "2256                      Radaur, India\n",
       "2257              कल्याण डोंबीवली, भारत\n",
       "2258                      Jaipur, India\n",
       "2259                   New Delhi, India\n",
       "2260                        India & GCC\n",
       "2261                                NaN\n",
       "2262                             bastar\n",
       "2263                                NaN\n",
       "2264              Madhya Pradesh, India\n",
       "2265                              Delhi\n",
       "2266                   New Delhi, India\n",
       "2267                                NaN\n",
       "2268                   Hyderabad, India\n",
       "2269               Guna, Madhya Pradesh\n",
       "2270                       Delhi, India\n",
       "2271                            Lucknow\n",
       "2272                     Gangapur city \n",
       "2273                                NaN\n",
       "2274                                NaN\n",
       "Name: user_location, Length: 2275, dtype: object"
      ]
     },
     "execution_count": 132,
     "metadata": {},
     "output_type": "execute_result"
    }
   ],
   "source": [
    "import numpy as np\n",
    "\n",
    "locations = tweets_df['user_location'].replace('', np.NaN)\n",
    "locations"
   ]
  },
  {
   "cell_type": "code",
   "execution_count": 112,
   "metadata": {},
   "outputs": [],
   "source": [
    "tweets_df.to_csv('narendramodi_tweets2.csv',index=False,encoding='utf-8')"
   ]
  },
  {
   "cell_type": "code",
   "execution_count": 138,
   "metadata": {},
   "outputs": [
    {
     "data": {
      "text/plain": [
       "0                 kapasan Rajasthan \n",
       "1                                NaN\n",
       "2                      Mumbai, India\n",
       "3                              India\n",
       "4                   Bengaluru, India\n",
       "5                                NaN\n",
       "6               Al Farwaniya, Kuwait\n",
       "7                              India\n",
       "8                                NaN\n",
       "9                     Naugarh, India\n",
       "10                               NaN\n",
       "11                               NaN\n",
       "12                               NaN\n",
       "13                               NaN\n",
       "14                  New Delhi, India\n",
       "15                             Qatar\n",
       "16                               NaN\n",
       "17    Bettiah, West Champaran, Bihar\n",
       "18                               NaN\n",
       "19        Fatehpur(U.P.),DEL,CCU,RAJ\n",
       "20           Asansol , Jamui , India\n",
       "21    Bettiah, West Champaran, Bihar\n",
       "22                               NaN\n",
       "23                       Kota, India\n",
       "24               Non Reliable Indian\n",
       "25                       Kota, India\n",
       "26                    Narnaul, India\n",
       "27                  New Delhi, India\n",
       "28      sitapur Uttar Pradesh, India\n",
       "29                     Nashik, India\n",
       "30                     Barmer, India\n",
       "31                               NaN\n",
       "32                               NaN\n",
       "33                         Somewhere\n",
       "34                             India\n",
       "35                               NaN\n",
       "36                               NaN\n",
       "37                   Janjgir champa \n",
       "38    Bettiah, West Champaran, Bihar\n",
       "39                           Manasa \n",
       "40               Nagpur, Maharashtra\n",
       "41                      BHOPAL,INDIA\n",
       "42                       जय हिन्द 🇮🇳\n",
       "43    Bettiah, West Champaran, Bihar\n",
       "44                      Kerala,India\n",
       "45                     Jaipur, India\n",
       "46                               NaN\n",
       "47                   Amritsar, India\n",
       "48    Bettiah, West Champaran, Bihar\n",
       "49                             India\n",
       "Name: user_location, dtype: object"
      ]
     },
     "execution_count": 138,
     "metadata": {},
     "output_type": "execute_result"
    }
   ],
   "source": [
    "locations.head(50)"
   ]
  },
  {
   "cell_type": "code",
   "execution_count": 141,
   "metadata": {},
   "outputs": [
    {
     "ename": "KeyError",
     "evalue": "'location'",
     "output_type": "error",
     "traceback": [
      "\u001b[1;31m---------------------------------------------------------------------------\u001b[0m",
      "\u001b[1;31mKeyError\u001b[0m                                  Traceback (most recent call last)",
      "\u001b[1;32m<ipython-input-141-461c96495c5e>\u001b[0m in \u001b[0;36m<module>\u001b[1;34m\u001b[0m\n\u001b[0;32m      9\u001b[0m         \u001b[0murl\u001b[0m \u001b[1;33m=\u001b[0m \u001b[1;34m'http://api.apixu.com/v1/current.json?key=05582cd0928c400887383648191103&q=%s'\u001b[0m \u001b[1;33m%\u001b[0m\u001b[0mloc\u001b[0m\u001b[1;33m\u001b[0m\u001b[1;33m\u001b[0m\u001b[0m\n\u001b[0;32m     10\u001b[0m         \u001b[0mresult\u001b[0m \u001b[1;33m=\u001b[0m \u001b[0mrequests\u001b[0m\u001b[1;33m.\u001b[0m\u001b[0mget\u001b[0m\u001b[1;33m(\u001b[0m\u001b[0murl\u001b[0m\u001b[1;33m)\u001b[0m\u001b[1;33m.\u001b[0m\u001b[0mjson\u001b[0m\u001b[1;33m(\u001b[0m\u001b[1;33m)\u001b[0m\u001b[1;33m\u001b[0m\u001b[1;33m\u001b[0m\u001b[0m\n\u001b[1;32m---> 11\u001b[1;33m         \u001b[0mlatitude\u001b[0m \u001b[1;33m=\u001b[0m \u001b[0mresult\u001b[0m\u001b[1;33m[\u001b[0m\u001b[1;34m'location'\u001b[0m\u001b[1;33m]\u001b[0m\u001b[1;33m[\u001b[0m\u001b[1;34m'lat'\u001b[0m\u001b[1;33m]\u001b[0m\u001b[1;33m\u001b[0m\u001b[1;33m\u001b[0m\u001b[0m\n\u001b[0m\u001b[0;32m     12\u001b[0m         \u001b[0mlongitude\u001b[0m \u001b[1;33m=\u001b[0m \u001b[0mresult\u001b[0m\u001b[1;33m[\u001b[0m\u001b[1;34m'location'\u001b[0m\u001b[1;33m]\u001b[0m\u001b[1;33m[\u001b[0m\u001b[1;34m'lon'\u001b[0m\u001b[1;33m]\u001b[0m\u001b[1;33m\u001b[0m\u001b[1;33m\u001b[0m\u001b[0m\n\u001b[0;32m     13\u001b[0m \u001b[1;33m\u001b[0m\u001b[0m\n",
      "\u001b[1;31mKeyError\u001b[0m: 'location'"
     ]
    }
   ],
   "source": [
    "import requests\n",
    "loc_df=pd.DataFrame()\n",
    "for city in locations:\n",
    "    if (city=='NaN' or city=='Somewhere'):\n",
    "        continue\n",
    "    else:\n",
    "        loc = city\n",
    "        weather_api_key: '05582cd0928c400887383648191103'\n",
    "        url = 'http://api.apixu.com/v1/current.json?key=05582cd0928c400887383648191103&q=%s' %loc\n",
    "        result = requests.get(url).json()\n",
    "        latitude = result['location']['lat']\n",
    "        longitude = result['location']['lon']\n",
    "    \n",
    "        loc_dict = {'City':city,\n",
    "                    'latitude':latitude,\n",
    "                    'longitude':longitude\n",
    "                    \n",
    "                    }\n",
    "        loc_df= loc_df.append(loc_dict, ignore_index=True)\n",
    "        \n",
    "    \n",
    "loc_df"
   ]
  },
  {
   "cell_type": "code",
   "execution_count": 126,
   "metadata": {},
   "outputs": [
    {
     "data": {
      "text/plain": [
       "{'error': {'code': 1003, 'message': 'Parameter q is missing.'}}"
      ]
     },
     "execution_count": 126,
     "metadata": {},
     "output_type": "execute_result"
    }
   ],
   "source": [
    "result"
   ]
  },
  {
   "cell_type": "code",
   "execution_count": 142,
   "metadata": {},
   "outputs": [
    {
     "data": {
      "text/html": [
       "<div>\n",
       "<style scoped>\n",
       "    .dataframe tbody tr th:only-of-type {\n",
       "        vertical-align: middle;\n",
       "    }\n",
       "\n",
       "    .dataframe tbody tr th {\n",
       "        vertical-align: top;\n",
       "    }\n",
       "\n",
       "    .dataframe thead th {\n",
       "        text-align: right;\n",
       "    }\n",
       "</style>\n",
       "<table border=\"1\" class=\"dataframe\">\n",
       "  <thead>\n",
       "    <tr style=\"text-align: right;\">\n",
       "      <th></th>\n",
       "      <th>City</th>\n",
       "      <th>latitude</th>\n",
       "      <th>longitude</th>\n",
       "    </tr>\n",
       "  </thead>\n",
       "  <tbody>\n",
       "    <tr>\n",
       "      <th>0</th>\n",
       "      <td>kapasan Rajasthan</td>\n",
       "      <td>24.90</td>\n",
       "      <td>74.33</td>\n",
       "    </tr>\n",
       "    <tr>\n",
       "      <th>1</th>\n",
       "      <td>NaN</td>\n",
       "      <td>-17.76</td>\n",
       "      <td>177.44</td>\n",
       "    </tr>\n",
       "    <tr>\n",
       "      <th>2</th>\n",
       "      <td>Mumbai, India</td>\n",
       "      <td>18.98</td>\n",
       "      <td>72.83</td>\n",
       "    </tr>\n",
       "    <tr>\n",
       "      <th>3</th>\n",
       "      <td>India</td>\n",
       "      <td>28.60</td>\n",
       "      <td>77.20</td>\n",
       "    </tr>\n",
       "    <tr>\n",
       "      <th>4</th>\n",
       "      <td>Bengaluru, India</td>\n",
       "      <td>12.98</td>\n",
       "      <td>77.58</td>\n",
       "    </tr>\n",
       "    <tr>\n",
       "      <th>5</th>\n",
       "      <td>NaN</td>\n",
       "      <td>-17.76</td>\n",
       "      <td>177.44</td>\n",
       "    </tr>\n",
       "    <tr>\n",
       "      <th>6</th>\n",
       "      <td>Al Farwaniya, Kuwait</td>\n",
       "      <td>29.37</td>\n",
       "      <td>47.98</td>\n",
       "    </tr>\n",
       "    <tr>\n",
       "      <th>7</th>\n",
       "      <td>India</td>\n",
       "      <td>28.60</td>\n",
       "      <td>77.20</td>\n",
       "    </tr>\n",
       "    <tr>\n",
       "      <th>8</th>\n",
       "      <td>NaN</td>\n",
       "      <td>-17.76</td>\n",
       "      <td>177.44</td>\n",
       "    </tr>\n",
       "    <tr>\n",
       "      <th>9</th>\n",
       "      <td>Naugarh, India</td>\n",
       "      <td>24.83</td>\n",
       "      <td>83.27</td>\n",
       "    </tr>\n",
       "    <tr>\n",
       "      <th>10</th>\n",
       "      <td>NaN</td>\n",
       "      <td>-17.76</td>\n",
       "      <td>177.44</td>\n",
       "    </tr>\n",
       "    <tr>\n",
       "      <th>11</th>\n",
       "      <td>NaN</td>\n",
       "      <td>-17.76</td>\n",
       "      <td>177.44</td>\n",
       "    </tr>\n",
       "    <tr>\n",
       "      <th>12</th>\n",
       "      <td>NaN</td>\n",
       "      <td>-17.76</td>\n",
       "      <td>177.44</td>\n",
       "    </tr>\n",
       "    <tr>\n",
       "      <th>13</th>\n",
       "      <td>NaN</td>\n",
       "      <td>-17.76</td>\n",
       "      <td>177.44</td>\n",
       "    </tr>\n",
       "    <tr>\n",
       "      <th>14</th>\n",
       "      <td>New Delhi, India</td>\n",
       "      <td>28.60</td>\n",
       "      <td>77.20</td>\n",
       "    </tr>\n",
       "    <tr>\n",
       "      <th>15</th>\n",
       "      <td>Qatar</td>\n",
       "      <td>25.29</td>\n",
       "      <td>51.53</td>\n",
       "    </tr>\n",
       "    <tr>\n",
       "      <th>16</th>\n",
       "      <td>NaN</td>\n",
       "      <td>-17.76</td>\n",
       "      <td>177.44</td>\n",
       "    </tr>\n",
       "    <tr>\n",
       "      <th>17</th>\n",
       "      <td>Bettiah, West Champaran, Bihar</td>\n",
       "      <td>26.80</td>\n",
       "      <td>84.50</td>\n",
       "    </tr>\n",
       "    <tr>\n",
       "      <th>18</th>\n",
       "      <td>NaN</td>\n",
       "      <td>-17.76</td>\n",
       "      <td>177.44</td>\n",
       "    </tr>\n",
       "    <tr>\n",
       "      <th>19</th>\n",
       "      <td>Fatehpur(U.P.),DEL,CCU,RAJ</td>\n",
       "      <td>22.45</td>\n",
       "      <td>89.12</td>\n",
       "    </tr>\n",
       "    <tr>\n",
       "      <th>20</th>\n",
       "      <td>Asansol , Jamui , India</td>\n",
       "      <td>24.92</td>\n",
       "      <td>86.22</td>\n",
       "    </tr>\n",
       "    <tr>\n",
       "      <th>21</th>\n",
       "      <td>Bettiah, West Champaran, Bihar</td>\n",
       "      <td>26.80</td>\n",
       "      <td>84.50</td>\n",
       "    </tr>\n",
       "    <tr>\n",
       "      <th>22</th>\n",
       "      <td>NaN</td>\n",
       "      <td>-17.76</td>\n",
       "      <td>177.44</td>\n",
       "    </tr>\n",
       "    <tr>\n",
       "      <th>23</th>\n",
       "      <td>Kota, India</td>\n",
       "      <td>25.18</td>\n",
       "      <td>75.83</td>\n",
       "    </tr>\n",
       "    <tr>\n",
       "      <th>24</th>\n",
       "      <td>Non Reliable Indian</td>\n",
       "      <td>21.73</td>\n",
       "      <td>103.88</td>\n",
       "    </tr>\n",
       "    <tr>\n",
       "      <th>25</th>\n",
       "      <td>Kota, India</td>\n",
       "      <td>25.18</td>\n",
       "      <td>75.83</td>\n",
       "    </tr>\n",
       "    <tr>\n",
       "      <th>26</th>\n",
       "      <td>Narnaul, India</td>\n",
       "      <td>28.04</td>\n",
       "      <td>76.11</td>\n",
       "    </tr>\n",
       "    <tr>\n",
       "      <th>27</th>\n",
       "      <td>New Delhi, India</td>\n",
       "      <td>28.60</td>\n",
       "      <td>77.20</td>\n",
       "    </tr>\n",
       "    <tr>\n",
       "      <th>28</th>\n",
       "      <td>sitapur Uttar Pradesh, India</td>\n",
       "      <td>27.57</td>\n",
       "      <td>80.68</td>\n",
       "    </tr>\n",
       "    <tr>\n",
       "      <th>29</th>\n",
       "      <td>Nashik, India</td>\n",
       "      <td>18.20</td>\n",
       "      <td>-67.15</td>\n",
       "    </tr>\n",
       "    <tr>\n",
       "      <th>30</th>\n",
       "      <td>Barmer, India</td>\n",
       "      <td>25.75</td>\n",
       "      <td>71.38</td>\n",
       "    </tr>\n",
       "    <tr>\n",
       "      <th>31</th>\n",
       "      <td>NaN</td>\n",
       "      <td>-17.76</td>\n",
       "      <td>177.44</td>\n",
       "    </tr>\n",
       "    <tr>\n",
       "      <th>32</th>\n",
       "      <td>NaN</td>\n",
       "      <td>-17.76</td>\n",
       "      <td>177.44</td>\n",
       "    </tr>\n",
       "    <tr>\n",
       "      <th>33</th>\n",
       "      <td>India</td>\n",
       "      <td>28.60</td>\n",
       "      <td>77.20</td>\n",
       "    </tr>\n",
       "    <tr>\n",
       "      <th>34</th>\n",
       "      <td>NaN</td>\n",
       "      <td>-17.76</td>\n",
       "      <td>177.44</td>\n",
       "    </tr>\n",
       "    <tr>\n",
       "      <th>35</th>\n",
       "      <td>NaN</td>\n",
       "      <td>-17.76</td>\n",
       "      <td>177.44</td>\n",
       "    </tr>\n",
       "    <tr>\n",
       "      <th>36</th>\n",
       "      <td>Janjgir champa</td>\n",
       "      <td>22.02</td>\n",
       "      <td>82.57</td>\n",
       "    </tr>\n",
       "    <tr>\n",
       "      <th>37</th>\n",
       "      <td>Bettiah, West Champaran, Bihar</td>\n",
       "      <td>26.80</td>\n",
       "      <td>84.50</td>\n",
       "    </tr>\n",
       "    <tr>\n",
       "      <th>38</th>\n",
       "      <td>Manasa</td>\n",
       "      <td>24.48</td>\n",
       "      <td>75.15</td>\n",
       "    </tr>\n",
       "    <tr>\n",
       "      <th>39</th>\n",
       "      <td>Nagpur, Maharashtra</td>\n",
       "      <td>21.15</td>\n",
       "      <td>79.10</td>\n",
       "    </tr>\n",
       "    <tr>\n",
       "      <th>40</th>\n",
       "      <td>BHOPAL,INDIA</td>\n",
       "      <td>23.27</td>\n",
       "      <td>77.40</td>\n",
       "    </tr>\n",
       "  </tbody>\n",
       "</table>\n",
       "</div>"
      ],
      "text/plain": [
       "                              City  latitude  longitude\n",
       "0               kapasan Rajasthan      24.90      74.33\n",
       "1                              NaN    -17.76     177.44\n",
       "2                    Mumbai, India     18.98      72.83\n",
       "3                            India     28.60      77.20\n",
       "4                 Bengaluru, India     12.98      77.58\n",
       "5                              NaN    -17.76     177.44\n",
       "6             Al Farwaniya, Kuwait     29.37      47.98\n",
       "7                            India     28.60      77.20\n",
       "8                              NaN    -17.76     177.44\n",
       "9                   Naugarh, India     24.83      83.27\n",
       "10                             NaN    -17.76     177.44\n",
       "11                             NaN    -17.76     177.44\n",
       "12                             NaN    -17.76     177.44\n",
       "13                             NaN    -17.76     177.44\n",
       "14                New Delhi, India     28.60      77.20\n",
       "15                           Qatar     25.29      51.53\n",
       "16                             NaN    -17.76     177.44\n",
       "17  Bettiah, West Champaran, Bihar     26.80      84.50\n",
       "18                             NaN    -17.76     177.44\n",
       "19      Fatehpur(U.P.),DEL,CCU,RAJ     22.45      89.12\n",
       "20         Asansol , Jamui , India     24.92      86.22\n",
       "21  Bettiah, West Champaran, Bihar     26.80      84.50\n",
       "22                             NaN    -17.76     177.44\n",
       "23                     Kota, India     25.18      75.83\n",
       "24             Non Reliable Indian     21.73     103.88\n",
       "25                     Kota, India     25.18      75.83\n",
       "26                  Narnaul, India     28.04      76.11\n",
       "27                New Delhi, India     28.60      77.20\n",
       "28    sitapur Uttar Pradesh, India     27.57      80.68\n",
       "29                   Nashik, India     18.20     -67.15\n",
       "30                   Barmer, India     25.75      71.38\n",
       "31                             NaN    -17.76     177.44\n",
       "32                             NaN    -17.76     177.44\n",
       "33                           India     28.60      77.20\n",
       "34                             NaN    -17.76     177.44\n",
       "35                             NaN    -17.76     177.44\n",
       "36                 Janjgir champa      22.02      82.57\n",
       "37  Bettiah, West Champaran, Bihar     26.80      84.50\n",
       "38                         Manasa      24.48      75.15\n",
       "39             Nagpur, Maharashtra     21.15      79.10\n",
       "40                    BHOPAL,INDIA     23.27      77.40"
      ]
     },
     "execution_count": 142,
     "metadata": {},
     "output_type": "execute_result"
    }
   ],
   "source": [
    "loc_df"
   ]
  }
 ],
 "metadata": {
  "kernelspec": {
   "display_name": "Python 3",
   "language": "python",
   "name": "python3"
  },
  "language_info": {
   "codemirror_mode": {
    "name": "ipython",
    "version": 3
   },
   "file_extension": ".py",
   "mimetype": "text/x-python",
   "name": "python",
   "nbconvert_exporter": "python",
   "pygments_lexer": "ipython3",
   "version": "3.7.1"
  }
 },
 "nbformat": 4,
 "nbformat_minor": 2
}
