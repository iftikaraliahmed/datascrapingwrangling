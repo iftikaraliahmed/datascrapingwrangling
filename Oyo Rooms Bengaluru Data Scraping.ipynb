{
 "cells": [
  {
   "cell_type": "code",
   "execution_count": 46,
   "metadata": {},
   "outputs": [],
   "source": [
    "from selenium import webdriver\n",
    "import pandas as pd"
   ]
  },
  {
   "cell_type": "code",
   "execution_count": 47,
   "metadata": {},
   "outputs": [],
   "source": [
    "browser = webdriver.Chrome('chromedriver.exe')"
   ]
  },
  {
   "cell_type": "code",
   "execution_count": 48,
   "metadata": {},
   "outputs": [],
   "source": [
    "url = 'https://www.oyorooms.com/oyos-in-bangalore'\n",
    "browser.get(url)"
   ]
  },
  {
   "cell_type": "code",
   "execution_count": 56,
   "metadata": {},
   "outputs": [
    {
     "data": {
      "text/plain": [
       "1"
      ]
     },
     "execution_count": 56,
     "metadata": {},
     "output_type": "execute_result"
    }
   ],
   "source": [
    "parents = browser.find_elements_by_css_selector('div.newHotelCard')\n",
    "len(parents)"
   ]
  },
  {
   "cell_type": "code",
   "execution_count": 57,
   "metadata": {},
   "outputs": [
    {
     "name": "stdout",
     "output_type": "stream",
     "text": [
      "None\n"
     ]
    }
   ],
   "source": [
    "hotel_df=pd.DataFrame()\n",
    "for oyo in parents:\n",
    "    try:\n",
    "        hotel_name=oyo.find_elements_in_css_selector('span.newHotelCard__hotelName').text\n",
    "        \n",
    "    except:\n",
    "        \n",
    "        hotel_name = None\n",
    "        \n",
    "    print(hotel_name)"
   ]
  },
  {
   "cell_type": "code",
   "execution_count": null,
   "metadata": {},
   "outputs": [],
   "source": [
    "        location=oyo.find_element_in_css_selector('span.newHotelCard__hotelAddress').text\n",
    "        price=oyo.find_element_in_css_selector('span.newHotelCard__revisedPricing').text\n",
    "        discount=oyo.find_element_in_css_selector('span.newHotelCard__discount').text\n",
    "        rating=oyo.find_element_in_css_selector('span.newHotelCard__hotelRating__value--verygood').text\n",
    "        no_of_ratings = oyo.find_element_by_css_selector('div.hotelRating__count').text\n",
    "        img_url=oyo.find_element_by_css_selector('img.carousal__image').get_attribute('src')\n",
    "\n",
    "        \n",
    "    except:\n",
    "        hotel_name=None\n",
    "        location=None\n",
    "        price=None\n",
    "        discount=None\n",
    "        rating=None\n",
    "        no_of_ratings=None\n",
    "        img_url=None\n",
    "    df_dict = {\"hotel_name\":hotel_name,\n",
    "               \"location\":location,\n",
    "               \"price\":price,\n",
    "              \"discount\": discount,\n",
    "               \"rating\": rating,\n",
    "               \"no_of_ratings\": no_of_ratings,\n",
    "               \"img_url\": img_url\n",
    "              \n",
    "              \n",
    "              }\n",
    "    hotel_df.append(df_dict, ignore_index=True)\n",
    "                \n",
    "hotel_df"
   ]
  },
  {
   "cell_type": "code",
   "execution_count": 81,
   "metadata": {},
   "outputs": [
    {
     "name": "stdout",
     "output_type": "stream",
     "text": [
      "OYO 10521 GCK Suites ₹ 2275 Bannerughatta Approach Road Layout, 4th T Block East, Tilak Nagar, Jayanagar, Bangalore 57% OFF 3715 Ratings None\n",
      "None None None None None None\n",
      "OYO 29293 Athithi Comforts ₹ 1257 Opposite Navya Bar and Restaurant BEML Layout, Halagevaderahalli, , Rajarajeshwari Nagar, BEML Layout 3rd Stage, RR Nagar, Bangalore 40% OFF 33 Ratings None\n",
      "OYO 7558 Galaxy Comfort Inn ₹ 1982 Shivaji Nagar, Bangalore 39% OFF 1535 Ratings 4.6\n",
      "OYO 28067 Shree Comforts ₹ 1409 Arkere main road, next to RNS motors , Bannerghatta Road, Bangalore 48% OFF 18 Ratings 4.5\n",
      "OYO 22940 Sri Durga Residency ₹ 1747 Near Vidyaranyapura Main Road, Vidyaranyapura, Bangalore 59% OFF 573 Ratings 4.6\n",
      "OYO 16760 Blueberry ₹ 1893 Devarabisanahalli, Bellandur, Bangalore 25% OFF 1264 Ratings None\n",
      "OYO 28285 Maruthi- Luxury Rooms ₹ 1738 Padmavati Kalyan Mantap Arch Road, Remco Bhel Layout, Kenchenhalli, RR Nagar, Bangalore 51% OFF 57 Ratings None\n",
      "OYO 30525 Dwarka Grand ₹ 1601 Sri Manjunath Arcade, Govinayakanahalli, Kumarswamy Layout, Opp. Dayanand Sagar College of Engineering, Bangalore 25% OFF None None\n",
      "OYO 9633 Hotel Srinidhi Residency ₹ 2417 Near H.A.L Airport Road, Bangalore 59% OFF 1571 Ratings 4.7\n",
      "OYO 6823 Apartment Bellandur ₹ 1971 Bellandur, Bangalore 49% OFF 1163 Ratings 4.6\n",
      "OYO 29020 Vm Comfort ₹ 1458 4th Main, 1st Cross, Gandhi Nagar, Yelahanka, Bangalore 44% OFF None None\n",
      "Capital O 30373 Himalaya By Monarch ₹ 2093 SC Road, Gandhi Nagar, Bengaluru, Bangalore 25% OFF None None\n",
      "OYO 10534 Hotel Kanishka ₹ 1928 Gandhi Nagar, Bangalore 37% OFF 5373 Ratings None\n",
      "OYO 26708 Sky Palace ₹ 1515 subbanna garden, post, Hosur Rd, Ayappa Garden, Adugodi, Bangalore 37% OFF 19 Ratings None\n",
      "OYO Townhouse 047 Kanakpura Road ₹ 3517 Vasanthapura Main Road Off Kanakpura Road, Bangalore 60% OFF 1636 Ratings 4.7\n",
      "OYO 14424 Saarang Forever ₹ 1905 1st cross, model colony, Yeshwanthpur , Bangalore 37% OFF 1400 Ratings 4.5\n",
      "OYO 16803 Hotel Blueberry ₹ 1951 Lane 11, Adarsh Palm Retreat, Bellandur, Bengaluru, Bangalore 49% OFF 1452 Ratings None\n",
      "OYO Flagship 5360 Bellandur Outer ring road ₹ 2086 Green Glyen Layout, Behind Salarpuria Soft Zone, Outer Ring Rd, Bellandur, Bangalore 54% OFF 2043 Ratings None\n",
      "OYO 8476 Garden Comfort ₹ 2028 Near Wilson Garden, Bangalore 60% OFF 971 Ratings 4.7\n",
      "OYO 345 Hotel Red Mount Aquilla ₹ 2479 Koramangala, Bangalore 50% OFF 1304 Ratings 4.5\n"
     ]
    }
   ],
   "source": [
    "import pandas as pd\n",
    "df=pd.DataFrame()\n",
    "\n",
    "for oyo in parents:\n",
    "    try:\n",
    "        hotel_name=oyo.find_element_by_css_selector('span.newHotelCard__hotelName').text\n",
    "    except:\n",
    "        hotel_name=None\n",
    "    try:\n",
    "        hotel_address=oyo.find_element_by_css_selector('span.newHotelCard__hotelAddress').text\n",
    "    except:\n",
    "        hotel_address=None\n",
    "    try:\n",
    "        hotel_price=oyo.find_element_by_css_selector('span.newHotelCard__revisedPricing').text\n",
    "    except:\n",
    "        hotel_price=None\n",
    "    try:\n",
    "        hotel_discount=oyo.find_element_by_css_selector('div.newHotelCard__discount').text\n",
    "    except:\n",
    "        hotel_discount=None\n",
    "    try:\n",
    "        hotel_ratings=oyo.find_element_by_css_selector('span.hotelRating__value--excellent').text\n",
    "    except:\n",
    "        hotel_ratings=None\n",
    "    try:\n",
    "        hotel_no_of_ratings=oyo.find_element_by_css_selector('div.hotelRating__count').text\n",
    "    except:\n",
    "        hotel_no_of_ratings=None\n",
    "        \n",
    "    hotel_df={'hotel_name':hotel_name,'hotel_address':hotel_address,'hotel_price':hotel_price,\n",
    "              'hotel_discount':hotel_discount,'hotel_ratings':hotel_ratings,\n",
    "              'hotel_no_of_ratings':hotel_no_of_ratings} \n",
    "    #print(\"hello\")\n",
    "    #df.append(hotel_df,ignore_index=True)\n",
    "    print(hotel_name,hotel_price,hotel_address,hotel_discount,hotel_no_of_ratings,hotel_ratings)\n"
   ]
  },
  {
   "cell_type": "code",
   "execution_count": 40,
   "metadata": {},
   "outputs": [
    {
     "data": {
      "text/html": [
       "<div>\n",
       "<style scoped>\n",
       "    .dataframe tbody tr th:only-of-type {\n",
       "        vertical-align: middle;\n",
       "    }\n",
       "\n",
       "    .dataframe tbody tr th {\n",
       "        vertical-align: top;\n",
       "    }\n",
       "\n",
       "    .dataframe thead th {\n",
       "        text-align: right;\n",
       "    }\n",
       "</style>\n",
       "<table border=\"1\" class=\"dataframe\">\n",
       "  <thead>\n",
       "    <tr style=\"text-align: right;\">\n",
       "      <th></th>\n",
       "    </tr>\n",
       "  </thead>\n",
       "  <tbody>\n",
       "  </tbody>\n",
       "</table>\n",
       "</div>"
      ],
      "text/plain": [
       "Empty DataFrame\n",
       "Columns: []\n",
       "Index: []"
      ]
     },
     "execution_count": 40,
     "metadata": {},
     "output_type": "execute_result"
    }
   ],
   "source": [
    "      #hotel_df={'hotel_name':hotel_name,'hotel_address':hotel_address,'hotel_price':hotel_price,'hotel_discount':hotel_discount,'hotel_ratings':hotel_ratings,'hotel_no_of_ratings':hotel_no_of_ratings}\n",
    "                 \n",
    "        #hotel_df1.append(hotel_df,ignore_index=True)  "
   ]
  },
  {
   "cell_type": "code",
   "execution_count": null,
   "metadata": {},
   "outputs": [],
   "source": []
  }
 ],
 "metadata": {
  "kernelspec": {
   "display_name": "Python 3",
   "language": "python",
   "name": "python3"
  },
  "language_info": {
   "codemirror_mode": {
    "name": "ipython",
    "version": 3
   },
   "file_extension": ".py",
   "mimetype": "text/x-python",
   "name": "python",
   "nbconvert_exporter": "python",
   "pygments_lexer": "ipython3",
   "version": "3.7.1"
  }
 },
 "nbformat": 4,
 "nbformat_minor": 2
}
